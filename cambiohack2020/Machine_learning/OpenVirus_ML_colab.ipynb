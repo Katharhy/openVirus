{
  "nbformat": 4,
  "nbformat_minor": 0,
  "metadata": {
    "kernelspec": {
      "display_name": "TensorFlow-GPU-1.13",
      "language": "python",
      "name": "tf-gpu"
    },
    "language_info": {
      "codemirror_mode": {
        "name": "ipython",
        "version": 3
      },
      "file_extension": ".py",
      "mimetype": "text/x-python",
      "name": "python",
      "nbconvert_exporter": "python",
      "pygments_lexer": "ipython3",
      "version": "3.7.7"
    },
    "colab": {
      "name": "OpenVirus_ML.ipynb",
      "provenance": []
    }
  },
  "cells": [
    {
      "cell_type": "code",
      "metadata": {
        "id": "rWpPJuyjrt7E",
        "colab_type": "code",
        "colab": {}
      },
      "source": [
        "import xml.etree.ElementTree as ET\n",
        "import string\n",
        "import os  \n",
        "import re\n",
        "import pandas as pd"
      ],
      "execution_count": 1,
      "outputs": []
    },
    {
      "cell_type": "code",
      "metadata": {
        "id": "JESEPqwPrt7Z",
        "colab_type": "code",
        "colab": {
          "base_uri": "https://localhost:8080/",
          "height": 419
        },
        "outputId": "eefac371-db2b-4c0d-b8f2-77114553c02d"
      },
      "source": [
        "url = 'https://raw.githubusercontent.com/petermr/openVirus/master/cambiohack2020/Machine_learning/merged_final_1.csv'\n",
        "train_data_1 = pd.read_csv(url, error_bad_lines=False)\n",
        "train_data = train_data_1.iloc[1:] #remove the first row because it appears as data but is acually the title only \n",
        "train_data = train_data.sample(frac=1).reset_index(drop=True) #shufffle the dataset\n",
        "train_data.drop(['Unnamed: 0'], axis=1) \n",
        "\n",
        "#train_data_1 = train_data_1.iloc[1:] #remove the first row because it appears as data but is acually the title only \n",
        "#train_data = train_data_1.sample(frac=1).reset_index(drop=True)  #shufffle the dataset"
      ],
      "execution_count": 3,
      "outputs": [
        {
          "output_type": "execute_result",
          "data": {
            "text/html": [
              "<div>\n",
              "<style scoped>\n",
              "    .dataframe tbody tr th:only-of-type {\n",
              "        vertical-align: middle;\n",
              "    }\n",
              "\n",
              "    .dataframe tbody tr th {\n",
              "        vertical-align: top;\n",
              "    }\n",
              "\n",
              "    .dataframe thead th {\n",
              "        text-align: right;\n",
              "    }\n",
              "</style>\n",
              "<table border=\"1\" class=\"dataframe\">\n",
              "  <thead>\n",
              "    <tr style=\"text-align: right;\">\n",
              "      <th></th>\n",
              "      <th>ArticleId</th>\n",
              "      <th>Text</th>\n",
              "      <th>Category</th>\n",
              "    </tr>\n",
              "  </thead>\n",
              "  <tbody>\n",
              "    <tr>\n",
              "      <th>0</th>\n",
              "      <td>ML_other_1\\PMC7340222</td>\n",
              "      <td>we estimated the potential number of newly dia...</td>\n",
              "      <td>False</td>\n",
              "    </tr>\n",
              "    <tr>\n",
              "      <th>1</th>\n",
              "      <td>ML_covid_1\\PMC7195982</td>\n",
              "      <td>it seems that coronaviruses take an important ...</td>\n",
              "      <td>True</td>\n",
              "    </tr>\n",
              "    <tr>\n",
              "      <th>2</th>\n",
              "      <td>ML_covid_1\\PMC7443235</td>\n",
              "      <td>myocardial injury  represented by elevated car...</td>\n",
              "      <td>True</td>\n",
              "    </tr>\n",
              "    <tr>\n",
              "      <th>3</th>\n",
              "      <td>ML_other_1\\PMC7443164</td>\n",
              "      <td>the world of uncertainty motivates the study o...</td>\n",
              "      <td>False</td>\n",
              "    </tr>\n",
              "    <tr>\n",
              "      <th>4</th>\n",
              "      <td>ML_other_1\\PMC7244176</td>\n",
              "      <td>hiv self testing  hivst   which allows people ...</td>\n",
              "      <td>False</td>\n",
              "    </tr>\n",
              "    <tr>\n",
              "      <th>...</th>\n",
              "      <td>...</td>\n",
              "      <td>...</td>\n",
              "      <td>...</td>\n",
              "    </tr>\n",
              "    <tr>\n",
              "      <th>679</th>\n",
              "      <td>ML_other_1\\PMC7466501</td>\n",
              "      <td>high five cells are an excellent host for the ...</td>\n",
              "      <td>False</td>\n",
              "    </tr>\n",
              "    <tr>\n",
              "      <th>680</th>\n",
              "      <td>ML_covid_1\\PMC7361847</td>\n",
              "      <td>universities uk  uuk  has suggested that there...</td>\n",
              "      <td>True</td>\n",
              "    </tr>\n",
              "    <tr>\n",
              "      <th>681</th>\n",
              "      <td>ML_covid_1\\PMC7300871</td>\n",
              "      <td>this article is protected by copyright  all ri...</td>\n",
              "      <td>True</td>\n",
              "    </tr>\n",
              "    <tr>\n",
              "      <th>682</th>\n",
              "      <td>ML_other_1\\PMC7323231</td>\n",
              "      <td>this article is protected by copyright  all ri...</td>\n",
              "      <td>False</td>\n",
              "    </tr>\n",
              "    <tr>\n",
              "      <th>683</th>\n",
              "      <td>ML_other_1\\PMC7068381</td>\n",
              "      <td>human immunodeficiency virus  hiv  testing is ...</td>\n",
              "      <td>False</td>\n",
              "    </tr>\n",
              "  </tbody>\n",
              "</table>\n",
              "<p>684 rows × 3 columns</p>\n",
              "</div>"
            ],
            "text/plain": [
              "                 ArticleId  ... Category\n",
              "0    ML_other_1\\PMC7340222  ...    False\n",
              "1    ML_covid_1\\PMC7195982  ...     True\n",
              "2    ML_covid_1\\PMC7443235  ...     True\n",
              "3    ML_other_1\\PMC7443164  ...    False\n",
              "4    ML_other_1\\PMC7244176  ...    False\n",
              "..                     ...  ...      ...\n",
              "679  ML_other_1\\PMC7466501  ...    False\n",
              "680  ML_covid_1\\PMC7361847  ...     True\n",
              "681  ML_covid_1\\PMC7300871  ...     True\n",
              "682  ML_other_1\\PMC7323231  ...    False\n",
              "683  ML_other_1\\PMC7068381  ...    False\n",
              "\n",
              "[684 rows x 3 columns]"
            ]
          },
          "metadata": {
            "tags": []
          },
          "execution_count": 3
        }
      ]
    },
    {
      "cell_type": "code",
      "metadata": {
        "id": "qWp2hi91rt7s",
        "colab_type": "code",
        "colab": {
          "base_uri": "https://localhost:8080/",
          "height": 204
        },
        "outputId": "1ac49165-7e18-4b81-c80f-61e31f179af5"
      },
      "source": [
        "train_data.head() #visualizing the data table"
      ],
      "execution_count": 4,
      "outputs": [
        {
          "output_type": "execute_result",
          "data": {
            "text/html": [
              "<div>\n",
              "<style scoped>\n",
              "    .dataframe tbody tr th:only-of-type {\n",
              "        vertical-align: middle;\n",
              "    }\n",
              "\n",
              "    .dataframe tbody tr th {\n",
              "        vertical-align: top;\n",
              "    }\n",
              "\n",
              "    .dataframe thead th {\n",
              "        text-align: right;\n",
              "    }\n",
              "</style>\n",
              "<table border=\"1\" class=\"dataframe\">\n",
              "  <thead>\n",
              "    <tr style=\"text-align: right;\">\n",
              "      <th></th>\n",
              "      <th>Unnamed: 0</th>\n",
              "      <th>ArticleId</th>\n",
              "      <th>Text</th>\n",
              "      <th>Category</th>\n",
              "    </tr>\n",
              "  </thead>\n",
              "  <tbody>\n",
              "    <tr>\n",
              "      <th>0</th>\n",
              "      <td>497</td>\n",
              "      <td>ML_other_1\\PMC7340222</td>\n",
              "      <td>we estimated the potential number of newly dia...</td>\n",
              "      <td>False</td>\n",
              "    </tr>\n",
              "    <tr>\n",
              "      <th>1</th>\n",
              "      <td>3</td>\n",
              "      <td>ML_covid_1\\PMC7195982</td>\n",
              "      <td>it seems that coronaviruses take an important ...</td>\n",
              "      <td>True</td>\n",
              "    </tr>\n",
              "    <tr>\n",
              "      <th>2</th>\n",
              "      <td>197</td>\n",
              "      <td>ML_covid_1\\PMC7443235</td>\n",
              "      <td>myocardial injury  represented by elevated car...</td>\n",
              "      <td>True</td>\n",
              "    </tr>\n",
              "    <tr>\n",
              "      <th>3</th>\n",
              "      <td>631</td>\n",
              "      <td>ML_other_1\\PMC7443164</td>\n",
              "      <td>the world of uncertainty motivates the study o...</td>\n",
              "      <td>False</td>\n",
              "    </tr>\n",
              "    <tr>\n",
              "      <th>4</th>\n",
              "      <td>411</td>\n",
              "      <td>ML_other_1\\PMC7244176</td>\n",
              "      <td>hiv self testing  hivst   which allows people ...</td>\n",
              "      <td>False</td>\n",
              "    </tr>\n",
              "  </tbody>\n",
              "</table>\n",
              "</div>"
            ],
            "text/plain": [
              "   Unnamed: 0  ... Category\n",
              "0         497  ...    False\n",
              "1           3  ...     True\n",
              "2         197  ...     True\n",
              "3         631  ...    False\n",
              "4         411  ...    False\n",
              "\n",
              "[5 rows x 4 columns]"
            ]
          },
          "metadata": {
            "tags": []
          },
          "execution_count": 4
        }
      ]
    },
    {
      "cell_type": "code",
      "metadata": {
        "id": "IcgTnZR_rt71",
        "colab_type": "code",
        "colab": {}
      },
      "source": [
        "train_data['category_id'] = train_data['Category'].factorize()[0] # factorizing the output into zero and one"
      ],
      "execution_count": 6,
      "outputs": []
    },
    {
      "cell_type": "code",
      "metadata": {
        "id": "UDCzXwILrt8E",
        "colab_type": "code",
        "colab": {
          "base_uri": "https://localhost:8080/",
          "height": 312
        },
        "outputId": "1628f865-e94e-44c8-ff3c-a20f21d514bc"
      },
      "source": [
        "train_data.groupby('Category').category_id.count().plot.bar(ylim=0)"
      ],
      "execution_count": 7,
      "outputs": [
        {
          "output_type": "execute_result",
          "data": {
            "text/plain": [
              "<matplotlib.axes._subplots.AxesSubplot at 0x7f96f874e2e8>"
            ]
          },
          "metadata": {
            "tags": []
          },
          "execution_count": 7
        },
        {
          "output_type": "display_data",
          "data": {
            "image/png": "[encoded data removed]",
            "text/plain": [
              "<Figure size 432x288 with 1 Axes>"
            ]
          },
          "metadata": {
            "tags": [],
            "needs_background": "light"
          }
        }
      ]
    },
    {
      "cell_type": "code",
      "metadata": {
        "id": "HEH5qKH5rt8T",
        "colab_type": "code",
        "colab": {}
      },
      "source": [
        "from sklearn.feature_extraction.text import TfidfVectorizer # term frequency & inverse document frequency (finding important words within text)\n",
        "tfidf = TfidfVectorizer(sublinear_tf=True, min_df=2, norm='l2', encoding='latin-1', ngram_range=(1, 3), stop_words='english')\n",
        "features = tfidf.fit_transform(train_data.Text).toarray()\n",
        "labels = train_data.category_id"
      ],
      "execution_count": 9,
      "outputs": []
    },
    {
      "cell_type": "code",
      "metadata": {
        "id": "vd6bW6FVrt8e",
        "colab_type": "code",
        "colab": {}
      },
      "source": [
        "category_to_id = {'true':0, 'false':1}\n",
        "id_to_category = {0: 'true', 1: 'false'}"
      ],
      "execution_count": 10,
      "outputs": []
    },
    {
      "cell_type": "code",
      "metadata": {
        "id": "dIfkCYIGrt8t",
        "colab_type": "code",
        "colab": {
          "base_uri": "https://localhost:8080/",
          "height": 323
        },
        "outputId": "fbe9f335-8c31-4ae6-f7c1-dc329117852d"
      },
      "source": [
        "# Use chi-square analysis to find corelation between features (importantce of words) and labels(news category) \n",
        "from sklearn.feature_selection import chi2\n",
        "import numpy as np\n",
        "\n",
        "N = 3  # We are going to look for top 3 categories\n",
        "\n",
        "#For each category, find words that are highly corelated to it\n",
        "for Category, category_id in sorted(category_to_id.items()):\n",
        "  features_chi2 = chi2(features, labels == category_id)                   # Do chi2 analyses of all items in this category\n",
        "  indices = np.argsort(features_chi2[0])                                  # Sorts the indices of features_chi2[0] - the chi-squared stats of each feature\n",
        "  feature_names = np.array(tfidf.get_feature_names())[indices]            # Converts indices to feature names ( in increasing order of chi-squared stat values)\n",
        "  unigrams = [v for v in feature_names if len(v.split(' ')) == 1]         # List of single word features ( in increasing order of chi-squared stat values)\n",
        "  bigrams = [v for v in feature_names if len(v.split(' ')) == 2]          # List for two-word features ( in increasing order of chi-squared stat values)\n",
        "  print(\"# '{}':\".format(Category))\n",
        "  print(\"  . Most correlated unigrams:\\n       . {}\".format('\\n       . '.join(unigrams[-N:]))) # Print 3 unigrams with highest Chi squared stat\n",
        "  print(\"  . Most correlated bigrams:\\n       . {}\".format('\\n       . '.join(bigrams[-N:]))) # Print 3 bigrams with highest Chi squared stat"
      ],
      "execution_count": 11,
      "outputs": [
        {
          "output_type": "stream",
          "text": [
            "# 'false':\n",
            "  . Most correlated unigrams:\n",
            "       . hiv\n",
            "       . 19\n",
            "       . covid\n",
            "  . Most correlated bigrams:\n",
            "       . acute respiratory\n",
            "       . sars cov\n",
            "       . covid 19\n",
            "# 'true':\n",
            "  . Most correlated unigrams:\n",
            "       . hiv\n",
            "       . 19\n",
            "       . covid\n",
            "  . Most correlated bigrams:\n",
            "       . acute respiratory\n",
            "       . sars cov\n",
            "       . covid 19\n"
          ],
          "name": "stdout"
        }
      ]
    },
    {
      "cell_type": "code",
      "metadata": {
        "id": "kQvZ8PZ2rt82",
        "colab_type": "code",
        "colab": {}
      },
      "source": [
        "##dimension reduction \n",
        "from sklearn.manifold import TSNE #low dimensionality plot\n",
        "\n",
        "# Sampling a subset of our dataset because t-SNE is computationally expensive\n",
        "SAMPLE_SIZE = int(len(features) * 1)\n",
        "np.random.seed(0)\n",
        "indices = np.random.choice(range(len(features)), size=SAMPLE_SIZE, replace=False)          # Randomly select 30 % of samples\n",
        "projected_features = TSNE(n_components=2, random_state=0).fit_transform(features[indices]) # Array of all projected features of 30% of Randomly chosen samples "
      ],
      "execution_count": 12,
      "outputs": []
    },
    {
      "cell_type": "code",
      "metadata": {
        "id": "vpQGmbr9rt9E",
        "colab_type": "code",
        "colab": {
          "base_uri": "https://localhost:8080/",
          "height": 292
        },
        "outputId": "ecb4b8f3-24a5-4755-9788-aeafec1d65c8"
      },
      "source": [
        "import matplotlib.pyplot as plt\n",
        "\n",
        "colors = ['pink', 'green']\n",
        "\n",
        "# Find points belonging to each category and plot them\n",
        "for category, category_id in sorted(category_to_id.items()):\n",
        "    points = projected_features[(labels[indices] == category_id).values]\n",
        "    plt.scatter(points[:, 0], points[:, 1], s=10, c=colors[category_id], label=category)\n",
        "plt.title(\"tf-idf feature vector for each article, projected on 2 dimensions.\",\n",
        "          fontdict=dict(fontsize=5))\n",
        "plt.legend()"
      ],
      "execution_count": 13,
      "outputs": [
        {
          "output_type": "execute_result",
          "data": {
            "text/plain": [
              "<matplotlib.legend.Legend at 0x7f96ebffaef0>"
            ]
          },
          "metadata": {
            "tags": []
          },
          "execution_count": 13
        },
        {
          "output_type": "display_data",
          "data": {
            "image/png": "[encoded data removed]",
            "text/plain": [
              "<Figure size 432x288 with 1 Axes>"
            ]
          },
          "metadata": {
            "tags": [],
            "needs_background": "light"
          }
        }
      ]
    },
    {
      "cell_type": "code",
      "metadata": {
        "id": "lgHKnICcrt9P",
        "colab_type": "code",
        "colab": {}
      },
      "source": [
        "from sklearn.linear_model import LogisticRegression\n",
        "from sklearn.ensemble import RandomForestClassifier\n",
        "from sklearn.naive_bayes import MultinomialNB\n",
        "from sklearn.neighbors import KNeighborsClassifier\n",
        "\n",
        "from sklearn.model_selection import cross_val_score\n",
        "\n",
        "\n",
        "models = [\n",
        "    \n",
        "    RandomForestClassifier(n_estimators=500, max_depth=4, random_state=0),\n",
        "    MultinomialNB(),\n",
        "    LogisticRegression(random_state=0),\n",
        "    KNeighborsClassifier(n_neighbors=3)\n",
        "]"
      ],
      "execution_count": 14,
      "outputs": []
    },
    {
      "cell_type": "code",
      "metadata": {
        "id": "myZsAuNErt9d",
        "colab_type": "code",
        "colab": {}
      },
      "source": [
        "CV = 5  # Cross Validate with 5 different folds of 20% data ( 80-20 split with 5 folds )\n",
        "\n",
        "#Create a data frame that will store the results for all 5 trials of the 3 different models\n",
        "cv_df = pd.DataFrame(index=range(CV * len(models)))\n",
        "entries = [] # Initially all entries are empty\n",
        "\n",
        "#For each Algorithm \n",
        "for model in models:\n",
        "  model_name = model.__class__.__name__\n",
        "  # create 5 models with different 20% test sets, and store their accuracies\n",
        "  accuracies = cross_val_score(model, features, labels, scoring='accuracy', cv=CV)\n",
        "  # Append all 5 accuracies into the entries list ( after all 3 models are run, there will be 3x5 = 15 entries)\n",
        "  for fold_idx, accuracy in enumerate(accuracies):\n",
        "    entries.append((model_name, fold_idx, accuracy))"
      ],
      "execution_count": 15,
      "outputs": []
    },
    {
      "cell_type": "code",
      "metadata": {
        "id": "ws9r80XHrt9q",
        "colab_type": "code",
        "colab": {
          "base_uri": "https://localhost:8080/",
          "height": 351
        },
        "outputId": "ceefb5c0-9b30-4b68-e80b-a7e0d744fc92"
      },
      "source": [
        "# Store the entries into the results dataframe and name its columns    \n",
        "cv_df = pd.DataFrame(entries, columns=['model_name', 'fold_idx', 'accuracy'])\n",
        "import seaborn as sns\n",
        "\n",
        "sns.boxplot(x='model_name', y='accuracy', data=cv_df)\n",
        "sns.stripplot(x='model_name', y='accuracy', data=cv_df, \n",
        "              size=5, jitter=True, edgecolor=\"gray\", linewidth=2)"
      ],
      "execution_count": 17,
      "outputs": [
        {
          "output_type": "stream",
          "text": [
            "/usr/local/lib/python3.6/dist-packages/statsmodels/tools/_testing.py:19: FutureWarning: pandas.util.testing is deprecated. Use the functions in the public API at pandas.testing instead.\n",
            "  import pandas.util.testing as tm\n"
          ],
          "name": "stderr"
        },
        {
          "output_type": "execute_result",
          "data": {
            "text/plain": [
              "<matplotlib.axes._subplots.AxesSubplot at 0x7f96ec593710>"
            ]
          },
          "metadata": {
            "tags": []
          },
          "execution_count": 17
        },
        {
          "output_type": "display_data",
          "data": {
            "image/png": "[encoded data removed]",
            "text/plain": [
              "<Figure size 432x288 with 1 Axes>"
            ]
          },
          "metadata": {
            "tags": [],
            "needs_background": "light"
          }
        }
      ]
    },
    {
      "cell_type": "code",
      "metadata": {
        "id": "Nj-CxRyHrt93",
        "colab_type": "code",
        "colab": {
          "base_uri": "https://localhost:8080/",
          "height": 119
        },
        "outputId": "c6b28c13-ac79-4f63-cd22-874919a424d9"
      },
      "source": [
        "cv_df.groupby('model_name').accuracy.mean()"
      ],
      "execution_count": 18,
      "outputs": [
        {
          "output_type": "execute_result",
          "data": {
            "text/plain": [
              "model_name\n",
              "KNeighborsClassifier      0.899098\n",
              "LogisticRegression        0.907804\n",
              "MultinomialNB             0.923916\n",
              "RandomForestClassifier    0.811346\n",
              "Name: accuracy, dtype: float64"
            ]
          },
          "metadata": {
            "tags": []
          },
          "execution_count": 18
        }
      ]
    },
    {
      "cell_type": "code",
      "metadata": {
        "id": "yIPmvvQ1rt-E",
        "colab_type": "code",
        "colab": {
          "base_uri": "https://localhost:8080/",
          "height": 669
        },
        "outputId": "bcc4984e-746b-4100-b65d-ca9c7bca8a98"
      },
      "source": [
        "cv_df"
      ],
      "execution_count": 19,
      "outputs": [
        {
          "output_type": "execute_result",
          "data": {
            "text/html": [
              "<div>\n",
              "<style scoped>\n",
              "    .dataframe tbody tr th:only-of-type {\n",
              "        vertical-align: middle;\n",
              "    }\n",
              "\n",
              "    .dataframe tbody tr th {\n",
              "        vertical-align: top;\n",
              "    }\n",
              "\n",
              "    .dataframe thead th {\n",
              "        text-align: right;\n",
              "    }\n",
              "</style>\n",
              "<table border=\"1\" class=\"dataframe\">\n",
              "  <thead>\n",
              "    <tr style=\"text-align: right;\">\n",
              "      <th></th>\n",
              "      <th>model_name</th>\n",
              "      <th>fold_idx</th>\n",
              "      <th>accuracy</th>\n",
              "    </tr>\n",
              "  </thead>\n",
              "  <tbody>\n",
              "    <tr>\n",
              "      <th>0</th>\n",
              "      <td>RandomForestClassifier</td>\n",
              "      <td>0</td>\n",
              "      <td>0.854015</td>\n",
              "    </tr>\n",
              "    <tr>\n",
              "      <th>1</th>\n",
              "      <td>RandomForestClassifier</td>\n",
              "      <td>1</td>\n",
              "      <td>0.802920</td>\n",
              "    </tr>\n",
              "    <tr>\n",
              "      <th>2</th>\n",
              "      <td>RandomForestClassifier</td>\n",
              "      <td>2</td>\n",
              "      <td>0.788321</td>\n",
              "    </tr>\n",
              "    <tr>\n",
              "      <th>3</th>\n",
              "      <td>RandomForestClassifier</td>\n",
              "      <td>3</td>\n",
              "      <td>0.839416</td>\n",
              "    </tr>\n",
              "    <tr>\n",
              "      <th>4</th>\n",
              "      <td>RandomForestClassifier</td>\n",
              "      <td>4</td>\n",
              "      <td>0.772059</td>\n",
              "    </tr>\n",
              "    <tr>\n",
              "      <th>5</th>\n",
              "      <td>MultinomialNB</td>\n",
              "      <td>0</td>\n",
              "      <td>0.934307</td>\n",
              "    </tr>\n",
              "    <tr>\n",
              "      <th>6</th>\n",
              "      <td>MultinomialNB</td>\n",
              "      <td>1</td>\n",
              "      <td>0.919708</td>\n",
              "    </tr>\n",
              "    <tr>\n",
              "      <th>7</th>\n",
              "      <td>MultinomialNB</td>\n",
              "      <td>2</td>\n",
              "      <td>0.927007</td>\n",
              "    </tr>\n",
              "    <tr>\n",
              "      <th>8</th>\n",
              "      <td>MultinomialNB</td>\n",
              "      <td>3</td>\n",
              "      <td>0.956204</td>\n",
              "    </tr>\n",
              "    <tr>\n",
              "      <th>9</th>\n",
              "      <td>MultinomialNB</td>\n",
              "      <td>4</td>\n",
              "      <td>0.882353</td>\n",
              "    </tr>\n",
              "    <tr>\n",
              "      <th>10</th>\n",
              "      <td>LogisticRegression</td>\n",
              "      <td>0</td>\n",
              "      <td>0.919708</td>\n",
              "    </tr>\n",
              "    <tr>\n",
              "      <th>11</th>\n",
              "      <td>LogisticRegression</td>\n",
              "      <td>1</td>\n",
              "      <td>0.919708</td>\n",
              "    </tr>\n",
              "    <tr>\n",
              "      <th>12</th>\n",
              "      <td>LogisticRegression</td>\n",
              "      <td>2</td>\n",
              "      <td>0.897810</td>\n",
              "    </tr>\n",
              "    <tr>\n",
              "      <th>13</th>\n",
              "      <td>LogisticRegression</td>\n",
              "      <td>3</td>\n",
              "      <td>0.956204</td>\n",
              "    </tr>\n",
              "    <tr>\n",
              "      <th>14</th>\n",
              "      <td>LogisticRegression</td>\n",
              "      <td>4</td>\n",
              "      <td>0.845588</td>\n",
              "    </tr>\n",
              "    <tr>\n",
              "      <th>15</th>\n",
              "      <td>KNeighborsClassifier</td>\n",
              "      <td>0</td>\n",
              "      <td>0.868613</td>\n",
              "    </tr>\n",
              "    <tr>\n",
              "      <th>16</th>\n",
              "      <td>KNeighborsClassifier</td>\n",
              "      <td>1</td>\n",
              "      <td>0.919708</td>\n",
              "    </tr>\n",
              "    <tr>\n",
              "      <th>17</th>\n",
              "      <td>KNeighborsClassifier</td>\n",
              "      <td>2</td>\n",
              "      <td>0.919708</td>\n",
              "    </tr>\n",
              "    <tr>\n",
              "      <th>18</th>\n",
              "      <td>KNeighborsClassifier</td>\n",
              "      <td>3</td>\n",
              "      <td>0.905109</td>\n",
              "    </tr>\n",
              "    <tr>\n",
              "      <th>19</th>\n",
              "      <td>KNeighborsClassifier</td>\n",
              "      <td>4</td>\n",
              "      <td>0.882353</td>\n",
              "    </tr>\n",
              "  </tbody>\n",
              "</table>\n",
              "</div>"
            ],
            "text/plain": [
              "                model_name  fold_idx  accuracy\n",
              "0   RandomForestClassifier         0  0.854015\n",
              "1   RandomForestClassifier         1  0.802920\n",
              "2   RandomForestClassifier         2  0.788321\n",
              "3   RandomForestClassifier         3  0.839416\n",
              "4   RandomForestClassifier         4  0.772059\n",
              "5            MultinomialNB         0  0.934307\n",
              "6            MultinomialNB         1  0.919708\n",
              "7            MultinomialNB         2  0.927007\n",
              "8            MultinomialNB         3  0.956204\n",
              "9            MultinomialNB         4  0.882353\n",
              "10      LogisticRegression         0  0.919708\n",
              "11      LogisticRegression         1  0.919708\n",
              "12      LogisticRegression         2  0.897810\n",
              "13      LogisticRegression         3  0.956204\n",
              "14      LogisticRegression         4  0.845588\n",
              "15    KNeighborsClassifier         0  0.868613\n",
              "16    KNeighborsClassifier         1  0.919708\n",
              "17    KNeighborsClassifier         2  0.919708\n",
              "18    KNeighborsClassifier         3  0.905109\n",
              "19    KNeighborsClassifier         4  0.882353"
            ]
          },
          "metadata": {
            "tags": []
          },
          "execution_count": 19
        }
      ]
    },
    {
      "cell_type": "code",
      "metadata": {
        "id": "OaXHhndZrt-P",
        "colab_type": "code",
        "colab": {}
      },
      "source": [
        "from sklearn.model_selection import train_test_split\n",
        "\n",
        "#model = RandomForestClassifier()\n",
        "model = MultinomialNB()\n",
        "\n",
        "#Split Data \n",
        "X_train, X_test, y_train, y_test, indices_train, indices_test = train_test_split(features, labels, train_data.index, test_size=0.33, random_state=0)\n",
        "\n",
        "#Train Algorithm\n",
        "model.fit(X_train, y_train)\n",
        "\n",
        "# Make Predictions\n",
        "y_pred_proba = model.predict_proba(X_test)\n",
        "y_pred = model.predict(X_test)"
      ],
      "execution_count": 20,
      "outputs": []
    },
    {
      "cell_type": "code",
      "metadata": {
        "id": "saNW8iS9rt-T",
        "colab_type": "code",
        "colab": {}
      },
      "source": [
        "category_id_df = train_data[['Category', 'category_id']].drop_duplicates().sort_values('category_id')"
      ],
      "execution_count": 21,
      "outputs": []
    },
    {
      "cell_type": "code",
      "metadata": {
        "id": "TKe0v6MFrt-a",
        "colab_type": "code",
        "colab": {
          "base_uri": "https://localhost:8080/",
          "height": 296
        },
        "outputId": "fc70501a-e13f-4e33-da8c-ea36bfc1d3e2"
      },
      "source": [
        "from sklearn.metrics import confusion_matrix\n",
        "import seaborn as sns\n",
        "\n",
        "conf_mat = confusion_matrix(y_test, y_pred)\n",
        "sns.heatmap(conf_mat, annot=True, fmt='d',\n",
        "            xticklabels=category_id_df.Category.values, yticklabels=category_id_df.Category.values)\n",
        "plt.ylabel('Actual')\n",
        "plt.xlabel('Predicted')\n",
        "#run chi squared"
      ],
      "execution_count": 22,
      "outputs": [
        {
          "output_type": "execute_result",
          "data": {
            "text/plain": [
              "Text(0.5, 15.0, 'Predicted')"
            ]
          },
          "metadata": {
            "tags": []
          },
          "execution_count": 22
        },
        {
          "output_type": "display_data",
          "data": {
            "image/png": "[encoded data removed]",
            "text/plain": [
              "<Figure size 432x288 with 2 Axes>"
            ]
          },
          "metadata": {
            "tags": [],
            "needs_background": "light"
          }
        }
      ]
    },
    {
      "cell_type": "code",
      "metadata": {
        "scrolled": true,
        "id": "CEPYI2Mart-q",
        "colab_type": "code",
        "colab": {
          "base_uri": "https://localhost:8080/",
          "height": 408
        },
        "outputId": "6121b283-7886-4d1c-a86b-f6193670bb0d"
      },
      "source": [
        "from IPython.display import display\n",
        "\n",
        "for predicted in category_id_df.category_id:\n",
        "   for actual in category_id_df.category_id:\n",
        "    if predicted != actual and conf_mat[actual, predicted] >= 2:\n",
        "      print(\"'{}' predicted as '{}' : {} examples.\".format(id_to_category[actual], id_to_category[predicted], conf_mat[actual, predicted]))\n",
        "      display(train_data.loc[indices_test[(y_test == actual) & (y_pred == predicted)]]['Text'])\n",
        "      print('')"
      ],
      "execution_count": 23,
      "outputs": [
        {
          "output_type": "stream",
          "text": [
            "'fasle' predicted as 'true' : 14 examples.\n"
          ],
          "name": "stdout"
        },
        {
          "output_type": "display_data",
          "data": {
            "text/plain": [
              "181                                 there is no abstract\n",
              "392    iga vasculitis is a systemic small vessel vasc...\n",
              "210    this study suggests that primary sars cov 2 ex...\n",
              "480    mobile health apps are becoming increasingly p...\n",
              "239    as global health systems and communities prepa...\n",
              "653    this month s under the lens discusses how stru...\n",
              "681    this article is protected by copyright  all ri...\n",
              "654    in the present paper  we formulate a new mathe...\n",
              "78                                    the editors of the\n",
              "355    this review offers a balanced view on how the ...\n",
              "610    this article is protected by copyright  all ri...\n",
              "362    i wrote this as a narrative piece for school  ...\n",
              "406                                   surgery must go on\n",
              "494    the data on covid 19 is clear on at least one ...\n",
              "Name: Text, dtype: object"
            ]
          },
          "metadata": {
            "tags": []
          }
        },
        {
          "output_type": "stream",
          "text": [
            "\n",
            "'true' predicted as 'fasle' : 3 examples.\n"
          ],
          "name": "stdout"
        },
        {
          "output_type": "display_data",
          "data": {
            "text/plain": [
              "101    since its first appearance in wuhan  china  se...\n",
              "92     covid 19 disease has spread globally and was d...\n",
              "222    were southern hemisphere countries right to un...\n",
              "Name: Text, dtype: object"
            ]
          },
          "metadata": {
            "tags": []
          }
        },
        {
          "output_type": "stream",
          "text": [
            "\n"
          ],
          "name": "stdout"
        }
      ]
    },
    {
      "cell_type": "code",
      "metadata": {
        "id": "XLwrEUvirt-5",
        "colab_type": "code",
        "colab": {
          "base_uri": "https://localhost:8080/",
          "height": 153
        },
        "outputId": "a2428b34-c67c-4bdd-8aac-08aec1a6fcba"
      },
      "source": [
        "model2 = RandomForestClassifier()\n",
        "model2.fit(features, labels)"
      ],
      "execution_count": 24,
      "outputs": [
        {
          "output_type": "execute_result",
          "data": {
            "text/plain": [
              "RandomForestClassifier(bootstrap=True, ccp_alpha=0.0, class_weight=None,\n",
              "                       criterion='gini', max_depth=None, max_features='auto',\n",
              "                       max_leaf_nodes=None, max_samples=None,\n",
              "                       min_impurity_decrease=0.0, min_impurity_split=None,\n",
              "                       min_samples_leaf=1, min_samples_split=2,\n",
              "                       min_weight_fraction_leaf=0.0, n_estimators=100,\n",
              "                       n_jobs=None, oob_score=False, random_state=None,\n",
              "                       verbose=0, warm_start=False)"
            ]
          },
          "metadata": {
            "tags": []
          },
          "execution_count": 24
        }
      ]
    },
    {
      "cell_type": "code",
      "metadata": {
        "id": "oIvYV63crt_B",
        "colab_type": "code",
        "colab": {
          "base_uri": "https://localhost:8080/",
          "height": 408
        },
        "outputId": "7251b6c7-6aef-4b7a-952b-4fd509762364"
      },
      "source": [
        "from IPython.display import display\n",
        "\n",
        "for predicted in category_id_df.category_id:\n",
        "   for actual in category_id_df.category_id:\n",
        "    if predicted != actual and conf_mat[actual, predicted] >= 2:\n",
        "      print(\"'{}' predicted as '{}' : {} examples.\".format(id_to_category[actual], id_to_category[predicted], conf_mat[actual, predicted]))\n",
        "      display(train_data.loc[indices_test[(y_test == actual) & (y_pred == predicted)]]['Text'])\n",
        "      print('')"
      ],
      "execution_count": 25,
      "outputs": [
        {
          "output_type": "stream",
          "text": [
            "'fasle' predicted as 'true' : 14 examples.\n"
          ],
          "name": "stdout"
        },
        {
          "output_type": "display_data",
          "data": {
            "text/plain": [
              "181                                 there is no abstract\n",
              "392    iga vasculitis is a systemic small vessel vasc...\n",
              "210    this study suggests that primary sars cov 2 ex...\n",
              "480    mobile health apps are becoming increasingly p...\n",
              "239    as global health systems and communities prepa...\n",
              "653    this month s under the lens discusses how stru...\n",
              "681    this article is protected by copyright  all ri...\n",
              "654    in the present paper  we formulate a new mathe...\n",
              "78                                    the editors of the\n",
              "355    this review offers a balanced view on how the ...\n",
              "610    this article is protected by copyright  all ri...\n",
              "362    i wrote this as a narrative piece for school  ...\n",
              "406                                   surgery must go on\n",
              "494    the data on covid 19 is clear on at least one ...\n",
              "Name: Text, dtype: object"
            ]
          },
          "metadata": {
            "tags": []
          }
        },
        {
          "output_type": "stream",
          "text": [
            "\n",
            "'true' predicted as 'fasle' : 3 examples.\n"
          ],
          "name": "stdout"
        },
        {
          "output_type": "display_data",
          "data": {
            "text/plain": [
              "101    since its first appearance in wuhan  china  se...\n",
              "92     covid 19 disease has spread globally and was d...\n",
              "222    were southern hemisphere countries right to un...\n",
              "Name: Text, dtype: object"
            ]
          },
          "metadata": {
            "tags": []
          }
        },
        {
          "output_type": "stream",
          "text": [
            "\n"
          ],
          "name": "stdout"
        }
      ]
    },
    {
      "cell_type": "code",
      "metadata": {
        "id": "khbxNZ63rt_F",
        "colab_type": "code",
        "colab": {}
      },
      "source": [
        ""
      ],
      "execution_count": null,
      "outputs": []
    }
  ]
}
