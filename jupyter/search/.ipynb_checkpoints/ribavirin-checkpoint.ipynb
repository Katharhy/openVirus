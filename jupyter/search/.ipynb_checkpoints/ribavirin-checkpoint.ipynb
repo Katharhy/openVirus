{
 "cells": [
  {
   "cell_type": "markdown",
   "metadata": {},
   "source": [
    "# search with ami\n",
    "\n"
   ]
  },
  {
   "cell_type": "markdown",
   "metadata": {},
   "source": [
    "### define the parameters of the search\n",
    "\n",
    "It is useful to use symbolic variables where possible\n"
   ]
  },
  {
   "cell_type": "code",
   "execution_count": 1,
   "metadata": {},
   "outputs": [],
   "source": [
    "# specific problem\n",
    "PROJECT = \"ribavirin\"\n",
    "EPMC = \"antiviral drugs\"\n",
    "HITS = 100\n",
    "DICTIONARIES = \"drugs disease country\"\n",
    "CLEAN = True"
   ]
  },
  {
   "cell_type": "code",
   "execution_count": 2,
   "metadata": {},
   "outputs": [
    {
     "name": "stdout",
     "output_type": "stream",
     "text": [
      "Thu  1 Oct 2020 12:23:21 BST\r\n"
     ]
    }
   ],
   "source": [
    "! date"
   ]
  },
  {
   "cell_type": "code",
   "execution_count": 3,
   "metadata": {},
   "outputs": [],
   "source": [
    "# This will be user-specific. EDIT\n",
    "# defines AMI3 and WORK\n",
    "\n",
    "# where is your workspace?\n",
    "HOME = \"/Users/pm286/\"\n",
    "WORK = HOME + \"workspace/work/search/\"\n",
    "\n",
    "# and where is ami3 distrib (DEMO ONLY)?\n",
    "AMI3 = HOME + \"workspace/cmdev/ami3/src/ipynb/work/search/\""
   ]
  },
  {
   "cell_type": "code",
   "execution_count": 4,
   "metadata": {
    "scrolled": false
   },
   "outputs": [
    {
     "name": "stdout",
     "output_type": "stream",
     "text": [
      "working in: /Users/pm286/workspace/work/search/\n",
      "files: \n",
      "\n",
      "\u001b[34mdict8\u001b[m\u001b[m                       ribavirin.ipynb\r\n",
      "dicts_8.ipynb               search.ipynb\r\n",
      "\u001b[34mdrugs_disease_country\u001b[m\u001b[m       \u001b[34mtarget\u001b[m\u001b[m\r\n",
      "drugs_disease_country.ipynb tempAll.svg\r\n",
      "\u001b[34mfunders\u001b[m\u001b[m                     tempAllPlots.svg\r\n",
      "funders.ipynb               \u001b[34mtulsi\u001b[m\u001b[m\r\n",
      "\u001b[34mlogs\u001b[m\u001b[m\r\n"
     ]
    }
   ],
   "source": [
    "# user independent \n",
    "# (DEMO ONLY) copy so we don't contaminate AMI3\n",
    "! cp -R $AMI3 $WORK\n",
    "\n",
    "#specific project\n",
    "PROJECT_WORK = WORK + PROJECT + \"/\"\n",
    "\n",
    "! cd $WORK\n",
    "print (\"working in: \" + WORK + \"\\nfiles: \\n\")\n",
    "# list all files in directory\n",
    "! ls\n",
    "\n"
   ]
  },
  {
   "cell_type": "code",
   "execution_count": 5,
   "metadata": {
    "scrolled": true
   },
   "outputs": [
    {
     "name": "stdout",
     "output_type": "stream",
     "text": [
      "==== clean: ribavirin? True =====\n",
      "\n",
      "total 6968\n",
      "drwxr-xr-x  134 pm286  staff     4288  1 Oct 11:26 \u001b[34mdict8\u001b[m\u001b[m\n",
      "-rw-r--r--@   1 pm286  staff  2764454  1 Oct 12:23 dicts_8.ipynb\n",
      "drwxr-xr-x  119 pm286  staff     3808 30 Sep 12:43 \u001b[34mdrugs_disease_country\u001b[m\u001b[m\n",
      "-rw-r--r--@   1 pm286  staff    61704  1 Oct 12:23 drugs_disease_country.ipynb\n",
      "drwxr-xr-x  116 pm286  staff     3712 30 Sep 18:07 \u001b[34mfunders\u001b[m\u001b[m\n",
      "-rw-r--r--@   1 pm286  staff   274722  1 Oct 12:23 funders.ipynb\n",
      "drwxr-xr-x    3 pm286  staff       96 30 Sep 10:31 \u001b[34mlogs\u001b[m\u001b[m\n",
      "-rw-r--r--@   1 pm286  staff    61580  1 Oct 12:17 ribavirin.ipynb\n",
      "-rw-r--r--@   1 pm286  staff    11607  1 Oct 12:23 search.ipynb\n",
      "drwxr-xr-x    4 pm286  staff      128 30 Sep 10:32 \u001b[34mtarget\u001b[m\u001b[m\n",
      "drwxr-xr-x   25 pm286  staff      800 30 Sep 11:35 \u001b[34mtulsi\u001b[m\u001b[m\n"
     ]
    }
   ],
   "source": [
    "# clean project completely \n",
    "print (\"==== clean: \" + PROJECT + \"? \" + str(CLEAN) + \" =====\\n\")\n",
    "if (CLEAN):\n",
    "    ! rm -rf $PROJECT\n",
    "    ! rm tempAllPlots.svg tempAll.svg\n",
    "! ls -l"
   ]
  },
  {
   "cell_type": "markdown",
   "metadata": {},
   "source": [
    "## search EPMC with getpapers\n",
    "This needs\n",
    "* a search query (EPMC) to send to europepmc.org\n",
    "* a project name (PROJECT) which will create a directory under your current directory\n",
    "* maximum hits (HITS)"
   ]
  },
  {
   "cell_type": "code",
   "execution_count": null,
   "metadata": {},
   "outputs": [
    {
     "name": "stdout",
     "output_type": "stream",
     "text": [
      "running: getpapers -q \"antiviral drugs\" -o ribavirin -x -k 100\n",
      "\u001b[32minfo\u001b[39m: Searching using eupmc API\n"
     ]
    }
   ],
   "source": [
    "print (\"running: getpapers -q \\\"\" + EPMC + \"\\\" -o \" + PROJECT + \" -x -k \" + str(HITS))\n",
    "! getpapers -q \"$EPMC\" -o $PROJECT -x -k $HITS\n",
    "       "
   ]
  },
  {
   "cell_type": "code",
   "execution_count": null,
   "metadata": {},
   "outputs": [],
   "source": [
    "print (\"===== created \" + PROJECT + \" =======\")\n",
    "! ls $PROJECT"
   ]
  },
  {
   "cell_type": "markdown",
   "metadata": {},
   "source": [
    "## `ami search` on results of `getpapers`\n",
    "\n",
    "This requires one or more dictionaries (space-separated) in DICTIONARIES\n",
    "It can transform/search 1-3 papers/sec and is quicker the second time around. "
   ]
  },
  {
   "cell_type": "code",
   "execution_count": null,
   "metadata": {},
   "outputs": [],
   "source": [
    "print (\"===== running \" + \" ami -p \" + PROJECT + \" search --dictionary \"\\\n",
    "       + DICTIONARIES + \" =======\")\n",
    "! ami -p $PROJECT search --dictionary $DICTIONARIES"
   ]
  },
  {
   "cell_type": "code",
   "execution_count": null,
   "metadata": {
    "scrolled": false
   },
   "outputs": [],
   "source": [
    "ls $PROJECT"
   ]
  },
  {
   "cell_type": "markdown",
   "metadata": {},
   "source": [
    "[link to dashboard (full.dataTables)](drugs_disease_country/full.dataTables.html)"
   ]
  },
  {
   "cell_type": "code",
   "execution_count": null,
   "metadata": {},
   "outputs": [],
   "source": [
    "## cooccurrence plots\n",
    "\n",
    "### First, list the plots"
   ]
  },
  {
   "cell_type": "code",
   "execution_count": null,
   "metadata": {},
   "outputs": [],
   "source": [
    "! ls $PROJECT/__cooccurrence/\n",
    "! ls $PROJECT/__cooccurrence/allPlots.svg \n",
    "# this is a kludge until we work out how to display the file\n",
    "! cp $PROJECT/__cooccurrence/allPlots.svg tempAllPlots.svg"
   ]
  },
  {
   "cell_type": "markdown",
   "metadata": {},
   "source": [
    "### display the all-vs-all plot\n",
    "*WARNING uses a temp file - we need to find a generic way with `display()`\n"
   ]
  },
  {
   "cell_type": "markdown",
   "metadata": {},
   "source": [
    "## all-by-all plots\n",
    "<img src=\"tempAllPlots.svg\">\n",
    "\n",
    "licence\n",
    "![Alt text](https://mirrors.creativecommons.org/presskit/logos/cc.logo.svg)\n",
    "\n"
   ]
  },
  {
   "cell_type": "code",
   "execution_count": null,
   "metadata": {},
   "outputs": [],
   "source": [
    "! date"
   ]
  }
 ],
 "metadata": {
  "kernelspec": {
   "display_name": "Python 3",
   "language": "python",
   "name": "python3"
  },
  "language_info": {
   "codemirror_mode": {
    "name": "ipython",
    "version": 3
   },
   "file_extension": ".py",
   "mimetype": "text/x-python",
   "name": "python",
   "nbconvert_exporter": "python",
   "pygments_lexer": "ipython3",
   "version": "3.8.3"
  }
 },
 "nbformat": 4,
 "nbformat_minor": 4
}
