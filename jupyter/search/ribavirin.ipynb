{
 "cells": [
  {
   "cell_type": "markdown",
   "metadata": {},
   "source": [
    "# search with ami\n",
    "\n"
   ]
  },
  {
   "cell_type": "markdown",
   "metadata": {},
   "source": [
    "### define the parameters of the search\n",
    "\n",
    "It is useful to use symbolic variables where possible\n"
   ]
  },
  {
   "cell_type": "code",
   "execution_count": 13,
   "metadata": {},
   "outputs": [],
   "source": [
    "# specific problem\n",
    "PROJECT = \"covid_vaccine\"\n",
    "EPMC = \"covid vaccine\"\n",
    "HITS = 100\n",
    "DICTIONARIES = \"drugs disease country\"\n",
    "CLEAN = True"
   ]
  },
  {
   "cell_type": "code",
   "execution_count": 14,
   "metadata": {},
   "outputs": [
    {
     "name": "stdout",
     "output_type": "stream",
     "text": [
      "Thu  1 Oct 2020 14:39:16 BST\r\n"
     ]
    }
   ],
   "source": [
    "! date"
   ]
  },
  {
   "cell_type": "code",
   "execution_count": 15,
   "metadata": {},
   "outputs": [],
   "source": [
    "# This will be user-specific. EDIT\n",
    "# defines AMI3 and WORK\n",
    "\n",
    "# where is your workspace?\n",
    "HOME = \"/Users/pm286/\"\n",
    "WORK = HOME + \"workspace/work/search/\"\n",
    "\n",
    "# and where is ami3 distrib (DEMO ONLY)?\n",
    "AMI3 = HOME + \"workspace/cmdev/ami3/src/ipynb/work/search/\""
   ]
  },
  {
   "cell_type": "code",
   "execution_count": 16,
   "metadata": {
    "scrolled": false
   },
   "outputs": [
    {
     "name": "stdout",
     "output_type": "stream",
     "text": [
      "working in: /Users/pm286/workspace/work/search/\n",
      "files: \n",
      "\n",
      "\u001b[34mdict8\u001b[m\u001b[m                       \u001b[34mribavirin\u001b[m\u001b[m\r\n",
      "dicts_8.ipynb               ribavirin.ipynb\r\n",
      "\u001b[34mdrugs_disease_country\u001b[m\u001b[m       search.ipynb\r\n",
      "drugs_disease_country.ipynb \u001b[34mtarget\u001b[m\u001b[m\r\n",
      "\u001b[34mfunders\u001b[m\u001b[m                     tempAllPlots.svg\r\n",
      "funders.ipynb               \u001b[34mtulsi\u001b[m\u001b[m\r\n",
      "\u001b[34mlogs\u001b[m\u001b[m\r\n"
     ]
    }
   ],
   "source": [
    "# user independent \n",
    "# (DEMO ONLY) copy so we don't contaminate AMI3\n",
    "! cp -R $AMI3 $WORK\n",
    "\n",
    "#specific project\n",
    "PROJECT_WORK = WORK + PROJECT + \"/\"\n",
    "\n",
    "! cd $WORK\n",
    "print (\"working in: \" + WORK + \"\\nfiles: \\n\")\n",
    "# list all files in directory\n",
    "! ls\n",
    "\n"
   ]
  },
  {
   "cell_type": "code",
   "execution_count": 17,
   "metadata": {
    "scrolled": true
   },
   "outputs": [
    {
     "name": "stdout",
     "output_type": "stream",
     "text": [
      "==== clean: covid_vaccine? True =====\n",
      "\n",
      "rm: tempAll.svg: No such file or directory\n",
      "total 7000\n",
      "drwxr-xr-x  134 pm286  staff     4288  1 Oct 11:26 \u001b[34mdict8\u001b[m\u001b[m\n",
      "-rw-r--r--@   1 pm286  staff  2764454  1 Oct 14:39 dicts_8.ipynb\n",
      "drwxr-xr-x  119 pm286  staff     3808 30 Sep 12:43 \u001b[34mdrugs_disease_country\u001b[m\u001b[m\n",
      "-rw-r--r--@   1 pm286  staff    61704  1 Oct 14:39 drugs_disease_country.ipynb\n",
      "drwxr-xr-x  116 pm286  staff     3712 30 Sep 18:07 \u001b[34mfunders\u001b[m\u001b[m\n",
      "-rw-r--r--@   1 pm286  staff   274722  1 Oct 14:39 funders.ipynb\n",
      "drwxr-xr-x    3 pm286  staff       96 30 Sep 10:31 \u001b[34mlogs\u001b[m\u001b[m\n",
      "drwxr-xr-x  121 pm286  staff     3872  1 Oct 12:24 \u001b[34mribavirin\u001b[m\u001b[m\n",
      "-rw-r--r--@   1 pm286  staff    78595  1 Oct 14:39 ribavirin.ipynb\n",
      "-rw-r--r--@   1 pm286  staff    11607  1 Oct 14:39 search.ipynb\n",
      "drwxr-xr-x    4 pm286  staff      128 30 Sep 10:32 \u001b[34mtarget\u001b[m\u001b[m\n",
      "drwxr-xr-x   25 pm286  staff      800 30 Sep 11:35 \u001b[34mtulsi\u001b[m\u001b[m\n"
     ]
    }
   ],
   "source": [
    "# clean project completely \n",
    "print (\"==== clean: \" + PROJECT + \"? \" + str(CLEAN) + \" =====\\n\")\n",
    "if (CLEAN):\n",
    "    ! rm -rf $PROJECT\n",
    "    ! rm tempAllPlots.svg tempAll.svg\n",
    "! ls -l"
   ]
  },
  {
   "cell_type": "markdown",
   "metadata": {},
   "source": [
    "## search EPMC with getpapers\n",
    "This needs\n",
    "* a search query (EPMC) to send to europepmc.org\n",
    "* a project name (PROJECT) which will create a directory under your current directory\n",
    "* maximum hits (HITS)"
   ]
  },
  {
   "cell_type": "code",
   "execution_count": 18,
   "metadata": {},
   "outputs": [
    {
     "name": "stdout",
     "output_type": "stream",
     "text": [
      "running: getpapers -q \"covid vaccine\" -o covid_vaccine -x -k 100\n",
      "\u001b[32minfo\u001b[39m: Searching using eupmc API\n",
      "\u001b[32minfo\u001b[39m: Found 10902 open access results\n",
      "\u001b[33mwarn\u001b[39m: This version of getpapers wasn't built with this version of the EuPMC api in mind\n",
      "\u001b[33mwarn\u001b[39m: getpapers EuPMCVersion: 5.3.2 vs. 6.4 reported by api\n",
      "\u001b[32minfo\u001b[39m: Limiting to 100 hits\n",
      "\u001b[2K\u001b[1GRetrieving results [\u001b[32m=\u001b[39m\u001b[32m=\u001b[39m\u001b[32m=\u001b[39m\u001b[32m=\u001b[39m\u001b[32m=\u001b[39m\u001b[32m=\u001b[39m\u001b[32m=\u001b[39m\u001b[32m=\u001b[39m\u001b[32m=\u001b[39m\u001b[32m=\u001b[39m\u001b[32m=\u001b[39m\u001b[32m=\u001b[39m\u001b[32m=\u001b[39m\u001b[32m=\u001b[39m\u001b[32m=\u001b[39m\u001b[32m=\u001b[39m\u001b[32m=\u001b[39m\u001b[32m=\u001b[39m\u001b[32m=\u001b[39m\u001b[32m=\u001b[39m\u001b[32m=\u001b[39m\u001b[32m=\u001b[39m\u001b[32m=\u001b[39m\u001b[32m=\u001b[39m\u001b[32m=\u001b[39m\u001b[32m=\u001b[39m\u001b[32m=\u001b[39m\u001b[32m=\u001b[39m\u001b[32m=\u001b[39m\u001b[32m=\u001b[39m] 100% (eta 0.0s)\n",
      "\u001b[32minfo\u001b[39m: Done collecting results\n",
      "\u001b[32minfo\u001b[39m: limiting hits\n",
      "\u001b[32minfo\u001b[39m: Saving result metadata\n",
      "\u001b[32minfo\u001b[39m: Full EUPMC result metadata written to \u001b[34meupmc_results.json\u001b[39m\n",
      "\u001b[32minfo\u001b[39m: Individual EUPMC result metadata records written\n",
      "\u001b[32minfo\u001b[39m: Extracting fulltext HTML URL list (may not be available for all articles)\n",
      "\u001b[32minfo\u001b[39m: Fulltext HTML URL list written to \u001b[34meupmc_fulltext_html_urls.txt\u001b[39m\n",
      "\u001b[33mwarn\u001b[39m: Article with pmcid \"PMC7498238\" was not Open Access (therefore no XML)\n",
      "\u001b[33mwarn\u001b[39m: Article with pmcid \"PMC7489926\" was not Open Access (therefore no XML)\n",
      "\u001b[33mwarn\u001b[39m: Article with pmcid \"PMC7511201\" was not Open Access (therefore no XML)\n",
      "\u001b[33mwarn\u001b[39m: Article with pmcid \"PMC7505651\" was not Open Access (therefore no XML)\n",
      "\u001b[33mwarn\u001b[39m: Article with pmcid \"PMC7508526\" was not Open Access (therefore no XML)\n",
      "\u001b[33mwarn\u001b[39m: Article with doi \"10.1101/2020.09.02.20186528 did not have a PMCID (therefore no XML)\n",
      "\u001b[33mwarn\u001b[39m: Article with pmcid \"PMC7484576\" was not Open Access (therefore no XML)\n",
      "\u001b[33mwarn\u001b[39m: Article with pmcid \"PMC7486065\" was not Open Access (therefore no XML)\n",
      "\u001b[33mwarn\u001b[39m: Article with pmcid \"PMC7505629\" was not Open Access (therefore no XML)\n",
      "\u001b[33mwarn\u001b[39m: Article with pmcid \"PMC7505019\" was not Open Access (therefore no XML)\n",
      "\u001b[33mwarn\u001b[39m: Article with pmcid \"PMC7484811\" was not Open Access (therefore no XML)\n",
      "\u001b[33mwarn\u001b[39m: Article with pmcid \"PMC7513818\" was not Open Access (therefore no XML)\n",
      "\u001b[33mwarn\u001b[39m: Article with pmcid \"PMC7480448\" was not Open Access (therefore no XML)\n",
      "\u001b[33mwarn\u001b[39m: Article with pmcid \"PMC7486984\" was not Open Access (therefore no XML)\n",
      "\u001b[33mwarn\u001b[39m: Article with pmcid \"PMC7474803\" was not Open Access (therefore no XML)\n",
      "\u001b[33mwarn\u001b[39m: Article with pmcid \"PMC7492005\" was not Open Access (therefore no XML)\n",
      "\u001b[33mwarn\u001b[39m: Article with pmcid \"PMC7494251\" was not Open Access (therefore no XML)\n",
      "\u001b[33mwarn\u001b[39m: Article with doi \"10.1101/2020.09.07.20190058 did not have a PMCID (therefore no XML)\n",
      "\u001b[33mwarn\u001b[39m: Article with pmcid \"PMC7484565\" was not Open Access (therefore no XML)\n",
      "\u001b[33mwarn\u001b[39m: Article with pmcid \"PMC7501876\" was not Open Access (therefore no XML)\n",
      "\u001b[33mwarn\u001b[39m: Article with pmcid \"PMC7484566\" was not Open Access (therefore no XML)\n",
      "\u001b[33mwarn\u001b[39m: Article with doi \"10.1101/2020.08.10.20172288 did not have a PMCID (therefore no XML)\n",
      "\u001b[33mwarn\u001b[39m: Article with pmcid \"PMC7481764\" was not Open Access (therefore no XML)\n",
      "\u001b[33mwarn\u001b[39m: Article with pmcid \"PMC7503114\" was not Open Access (therefore no XML)\n",
      "\u001b[33mwarn\u001b[39m: Article with pmcid \"PMC7508516\" was not Open Access (therefore no XML)\n",
      "\u001b[33mwarn\u001b[39m: Article with pmcid \"PMC7501874\" was not Open Access (therefore no XML)\n",
      "\u001b[33mwarn\u001b[39m: Article with pmcid \"PMC7413156\" was not Open Access (therefore no XML)\n",
      "\u001b[33mwarn\u001b[39m: Article with pmcid \"PMC7505016\" was not Open Access (therefore no XML)\n",
      "\u001b[33mwarn\u001b[39m: Article with doi \"10.1101/2020.07.17.20156026 did not have a PMCID (therefore no XML)\n",
      "\u001b[33mwarn\u001b[39m: Article with pmcid \"PMC7502362\" was not Open Access (therefore no XML)\n",
      "\u001b[33mwarn\u001b[39m: Article with pmcid \"PMC7417896\" was not Open Access (therefore no XML)\n",
      "\u001b[33mwarn\u001b[39m: Article with doi \"10.1101/2020.08.20.20178889 did not have a PMCID (therefore no XML)\n",
      "\u001b[33mwarn\u001b[39m: Article with pmcid \"PMC7483049\" was not Open Access (therefore no XML)\n",
      "\u001b[33mwarn\u001b[39m: Article with doi \"10.1101/2020.07.13.20152678 did not have a PMCID (therefore no XML)\n",
      "\u001b[33mwarn\u001b[39m: Article with pmcid \"PMC7478434\" was not Open Access (therefore no XML)\n",
      "\u001b[33mwarn\u001b[39m: Article with pmcid \"PMC7499599\" was not Open Access (therefore no XML)\n",
      "\u001b[33mwarn\u001b[39m: Article with pmcid \"PMC7424330\" was not Open Access (therefore no XML)\n",
      "\u001b[33mwarn\u001b[39m: Article with pmcid \"PMC7471798\" was not Open Access (therefore no XML)\n",
      "\u001b[33mwarn\u001b[39m: Article with pmcid \"PMC7428732\" was not Open Access (therefore no XML)\n",
      "\u001b[33mwarn\u001b[39m: Article with pmcid \"PMC7484596\" was not Open Access (therefore no XML)\n",
      "\u001b[33mwarn\u001b[39m: Article with pmcid \"PMC7451056\" was not Open Access (therefore no XML)\n",
      "\u001b[33mwarn\u001b[39m: Article with pmcid \"PMC7505022\" was not Open Access (therefore no XML)\n",
      "\u001b[32minfo\u001b[39m: Got XML URLs for 58 out of 100 results\n",
      "\u001b[32minfo\u001b[39m: Downloading fulltext XML files\n"
     ]
    },
    {
     "name": "stdout",
     "output_type": "stream",
     "text": [
      "\u001b[2K\u001b[1GDownloading files [--------------------------] 2% (1/58) [0.0s elapsed, eta 0.0]\u001b[2K\u001b[1GDownloading files [\u001b[32m=\u001b[39m-------------------------] 3% (2/58) [0.0s elapsed, eta 0.0]\u001b[2K\u001b[1GDownloading files [\u001b[32m=\u001b[39m-------------------------] 5% (3/58) [0.0s elapsed, eta 0.0]\u001b[2K\u001b[1GDownloading files [\u001b[32m=\u001b[39m\u001b[32m=\u001b[39m------------------------] 7% (4/58) [0.0s elapsed, eta 0.0]\u001b[2K\u001b[1GDownloading files [\u001b[32m=\u001b[39m\u001b[32m=\u001b[39m------------------------] 9% (5/58) [0.0s elapsed, eta 0.0]\u001b[2K\u001b[1GDownloading files [\u001b[32m=\u001b[39m\u001b[32m=\u001b[39m\u001b[32m=\u001b[39m----------------------] 10% (6/58) [0.0s elapsed, eta 0.0]\u001b[2K\u001b[1GDownloading files [\u001b[32m=\u001b[39m\u001b[32m=\u001b[39m\u001b[32m=\u001b[39m----------------------] 12% (7/58) [0.0s elapsed, eta 0.0]\u001b[2K\u001b[1GDownloading files [\u001b[32m=\u001b[39m\u001b[32m=\u001b[39m\u001b[32m=\u001b[39m----------------------] 14% (8/58) [0.0s elapsed, eta 0.0]\u001b[2K\u001b[1GDownloading files [\u001b[32m=\u001b[39m\u001b[32m=\u001b[39m\u001b[32m=\u001b[39m\u001b[32m=\u001b[39m---------------------] 16% (9/58) [0.0s elapsed, eta 0.0]\u001b[2K\u001b[1GDownloading files [\u001b[32m=\u001b[39m\u001b[32m=\u001b[39m\u001b[32m=\u001b[39m\u001b[32m=\u001b[39m--------------------] 17% (10/58) [0.0s elapsed, eta 0.0]\u001b[2K\u001b[1GDownloading files [\u001b[32m=\u001b[39m\u001b[32m=\u001b[39m\u001b[32m=\u001b[39m\u001b[32m=\u001b[39m\u001b[32m=\u001b[39m-------------------] 19% (11/58) [0.6s elapsed, eta 2.7]\u001b[2K\u001b[1GDownloading files [\u001b[32m=\u001b[39m\u001b[32m=\u001b[39m\u001b[32m=\u001b[39m\u001b[32m=\u001b[39m\u001b[32m=\u001b[39m-------------------] 21% (12/58) [0.6s elapsed, eta 2.5]\u001b[2K\u001b[1GDownloading files [\u001b[32m=\u001b[39m\u001b[32m=\u001b[39m\u001b[32m=\u001b[39m\u001b[32m=\u001b[39m\u001b[32m=\u001b[39m-------------------] 22% (13/58) [0.7s elapsed, eta 2.3]\u001b[2K\u001b[1GDownloading files [\u001b[32m=\u001b[39m\u001b[32m=\u001b[39m\u001b[32m=\u001b[39m\u001b[32m=\u001b[39m\u001b[32m=\u001b[39m\u001b[32m=\u001b[39m------------------] 24% (14/58) [0.7s elapsed, eta 2.1]\u001b[2K\u001b[1GDownloading files [\u001b[32m=\u001b[39m\u001b[32m=\u001b[39m\u001b[32m=\u001b[39m\u001b[32m=\u001b[39m\u001b[32m=\u001b[39m\u001b[32m=\u001b[39m------------------] 26% (15/58) [0.7s elapsed, eta 2.0]\u001b[2K\u001b[1GDownloading files [\u001b[32m=\u001b[39m\u001b[32m=\u001b[39m\u001b[32m=\u001b[39m\u001b[32m=\u001b[39m\u001b[32m=\u001b[39m\u001b[32m=\u001b[39m\u001b[32m=\u001b[39m-----------------] 28% (16/58) [0.8s elapsed, eta 2.0]\u001b[2K\u001b[1GDownloading files [\u001b[32m=\u001b[39m\u001b[32m=\u001b[39m\u001b[32m=\u001b[39m\u001b[32m=\u001b[39m\u001b[32m=\u001b[39m\u001b[32m=\u001b[39m\u001b[32m=\u001b[39m-----------------] 29% (17/58) [0.8s elapsed, eta 1.9]\u001b[2K\u001b[1GDownloading files [\u001b[32m=\u001b[39m\u001b[32m=\u001b[39m\u001b[32m=\u001b[39m\u001b[32m=\u001b[39m\u001b[32m=\u001b[39m\u001b[32m=\u001b[39m\u001b[32m=\u001b[39m-----------------] 31% (18/58) [0.9s elapsed, eta 2.0]\u001b[2K\u001b[1GDownloading files [\u001b[32m=\u001b[39m\u001b[32m=\u001b[39m\u001b[32m=\u001b[39m\u001b[32m=\u001b[39m\u001b[32m=\u001b[39m\u001b[32m=\u001b[39m\u001b[32m=\u001b[39m\u001b[32m=\u001b[39m----------------] 33% (19/58) [0.9s elapsed, eta 1.9]\u001b[2K\u001b[1GDownloading files [\u001b[32m=\u001b[39m\u001b[32m=\u001b[39m\u001b[32m=\u001b[39m\u001b[32m=\u001b[39m\u001b[32m=\u001b[39m\u001b[32m=\u001b[39m\u001b[32m=\u001b[39m\u001b[32m=\u001b[39m----------------] 34% (20/58) [1.0s elapsed, eta 1.9]\u001b[2K\u001b[1GDownloading files [\u001b[32m=\u001b[39m\u001b[32m=\u001b[39m\u001b[32m=\u001b[39m\u001b[32m=\u001b[39m\u001b[32m=\u001b[39m\u001b[32m=\u001b[39m\u001b[32m=\u001b[39m\u001b[32m=\u001b[39m\u001b[32m=\u001b[39m---------------] 36% (21/58) [1.1s elapsed, eta 1.9]\u001b[2K\u001b[1GDownloading files [\u001b[32m=\u001b[39m\u001b[32m=\u001b[39m\u001b[32m=\u001b[39m\u001b[32m=\u001b[39m\u001b[32m=\u001b[39m\u001b[32m=\u001b[39m\u001b[32m=\u001b[39m\u001b[32m=\u001b[39m\u001b[32m=\u001b[39m---------------] 38% (22/58) [1.1s elapsed, eta 1.8]\u001b[2K\u001b[1GDownloading files [\u001b[32m=\u001b[39m\u001b[32m=\u001b[39m\u001b[32m=\u001b[39m\u001b[32m=\u001b[39m\u001b[32m=\u001b[39m\u001b[32m=\u001b[39m\u001b[32m=\u001b[39m\u001b[32m=\u001b[39m\u001b[32m=\u001b[39m\u001b[32m=\u001b[39m--------------] 40% (23/58) [1.1s elapsed, eta 1.7]\u001b[2K\u001b[1GDownloading files [\u001b[32m=\u001b[39m\u001b[32m=\u001b[39m\u001b[32m=\u001b[39m\u001b[32m=\u001b[39m\u001b[32m=\u001b[39m\u001b[32m=\u001b[39m\u001b[32m=\u001b[39m\u001b[32m=\u001b[39m\u001b[32m=\u001b[39m\u001b[32m=\u001b[39m--------------] 41% (24/58) [1.2s elapsed, eta 1.7]\u001b[2K\u001b[1GDownloading files [\u001b[32m=\u001b[39m\u001b[32m=\u001b[39m\u001b[32m=\u001b[39m\u001b[32m=\u001b[39m\u001b[32m=\u001b[39m\u001b[32m=\u001b[39m\u001b[32m=\u001b[39m\u001b[32m=\u001b[39m\u001b[32m=\u001b[39m\u001b[32m=\u001b[39m--------------] 43% (25/58) [1.3s elapsed, eta 1.7]\u001b[2K\u001b[1GDownloading files [\u001b[32m=\u001b[39m\u001b[32m=\u001b[39m\u001b[32m=\u001b[39m\u001b[32m=\u001b[39m\u001b[32m=\u001b[39m\u001b[32m=\u001b[39m\u001b[32m=\u001b[39m\u001b[32m=\u001b[39m\u001b[32m=\u001b[39m\u001b[32m=\u001b[39m\u001b[32m=\u001b[39m-------------] 45% (26/58) [1.3s elapsed, eta 1.6]\u001b[2K\u001b[1GDownloading files [\u001b[32m=\u001b[39m\u001b[32m=\u001b[39m\u001b[32m=\u001b[39m\u001b[32m=\u001b[39m\u001b[32m=\u001b[39m\u001b[32m=\u001b[39m\u001b[32m=\u001b[39m\u001b[32m=\u001b[39m\u001b[32m=\u001b[39m\u001b[32m=\u001b[39m\u001b[32m=\u001b[39m-------------] 47% (27/58) [1.4s elapsed, eta 1.6]\u001b[2K\u001b[1GDownloading files [\u001b[32m=\u001b[39m\u001b[32m=\u001b[39m\u001b[32m=\u001b[39m\u001b[32m=\u001b[39m\u001b[32m=\u001b[39m\u001b[32m=\u001b[39m\u001b[32m=\u001b[39m\u001b[32m=\u001b[39m\u001b[32m=\u001b[39m\u001b[32m=\u001b[39m\u001b[32m=\u001b[39m\u001b[32m=\u001b[39m------------] 48% (28/58) [1.4s elapsed, eta 1.5]\u001b[2K\u001b[1GDownloading files [\u001b[32m=\u001b[39m\u001b[32m=\u001b[39m\u001b[32m=\u001b[39m\u001b[32m=\u001b[39m\u001b[32m=\u001b[39m\u001b[32m=\u001b[39m\u001b[32m=\u001b[39m\u001b[32m=\u001b[39m\u001b[32m=\u001b[39m\u001b[32m=\u001b[39m\u001b[32m=\u001b[39m\u001b[32m=\u001b[39m------------] 50% (29/58) [1.4s elapsed, eta 1.4]\u001b[2K\u001b[1GDownloading files [\u001b[32m=\u001b[39m\u001b[32m=\u001b[39m\u001b[32m=\u001b[39m\u001b[32m=\u001b[39m\u001b[32m=\u001b[39m\u001b[32m=\u001b[39m\u001b[32m=\u001b[39m\u001b[32m=\u001b[39m\u001b[32m=\u001b[39m\u001b[32m=\u001b[39m\u001b[32m=\u001b[39m\u001b[32m=\u001b[39m------------] 52% (30/58) [1.5s elapsed, eta 1.4]\u001b[2K\u001b[1GDownloading files [\u001b[32m=\u001b[39m\u001b[32m=\u001b[39m\u001b[32m=\u001b[39m\u001b[32m=\u001b[39m\u001b[32m=\u001b[39m\u001b[32m=\u001b[39m\u001b[32m=\u001b[39m\u001b[32m=\u001b[39m\u001b[32m=\u001b[39m\u001b[32m=\u001b[39m\u001b[32m=\u001b[39m\u001b[32m=\u001b[39m\u001b[32m=\u001b[39m-----------] 53% (31/58) [1.8s elapsed, eta 1.5]\u001b[2K\u001b[1GDownloading files [\u001b[32m=\u001b[39m\u001b[32m=\u001b[39m\u001b[32m=\u001b[39m\u001b[32m=\u001b[39m\u001b[32m=\u001b[39m\u001b[32m=\u001b[39m\u001b[32m=\u001b[39m\u001b[32m=\u001b[39m\u001b[32m=\u001b[39m\u001b[32m=\u001b[39m\u001b[32m=\u001b[39m\u001b[32m=\u001b[39m\u001b[32m=\u001b[39m-----------] 55% (32/58) [1.9s elapsed, eta 1.5]\u001b[2K\u001b[1GDownloading files [\u001b[32m=\u001b[39m\u001b[32m=\u001b[39m\u001b[32m=\u001b[39m\u001b[32m=\u001b[39m\u001b[32m=\u001b[39m\u001b[32m=\u001b[39m\u001b[32m=\u001b[39m\u001b[32m=\u001b[39m\u001b[32m=\u001b[39m\u001b[32m=\u001b[39m\u001b[32m=\u001b[39m\u001b[32m=\u001b[39m\u001b[32m=\u001b[39m\u001b[32m=\u001b[39m----------] 57% (33/58) [2.0s elapsed, eta 1.5]\u001b[2K\u001b[1GDownloading files [\u001b[32m=\u001b[39m\u001b[32m=\u001b[39m\u001b[32m=\u001b[39m\u001b[32m=\u001b[39m\u001b[32m=\u001b[39m\u001b[32m=\u001b[39m\u001b[32m=\u001b[39m\u001b[32m=\u001b[39m\u001b[32m=\u001b[39m\u001b[32m=\u001b[39m\u001b[32m=\u001b[39m\u001b[32m=\u001b[39m\u001b[32m=\u001b[39m\u001b[32m=\u001b[39m----------] 59% (34/58) [2.0s elapsed, eta 1.4]\u001b[2K\u001b[1GDownloading files [\u001b[32m=\u001b[39m\u001b[32m=\u001b[39m\u001b[32m=\u001b[39m\u001b[32m=\u001b[39m\u001b[32m=\u001b[39m\u001b[32m=\u001b[39m\u001b[32m=\u001b[39m\u001b[32m=\u001b[39m\u001b[32m=\u001b[39m\u001b[32m=\u001b[39m\u001b[32m=\u001b[39m\u001b[32m=\u001b[39m\u001b[32m=\u001b[39m\u001b[32m=\u001b[39m----------] 60% (35/58) [2.1s elapsed, eta 1.4]\u001b[2K\u001b[1GDownloading files [\u001b[32m=\u001b[39m\u001b[32m=\u001b[39m\u001b[32m=\u001b[39m\u001b[32m=\u001b[39m\u001b[32m=\u001b[39m\u001b[32m=\u001b[39m\u001b[32m=\u001b[39m\u001b[32m=\u001b[39m\u001b[32m=\u001b[39m\u001b[32m=\u001b[39m\u001b[32m=\u001b[39m\u001b[32m=\u001b[39m\u001b[32m=\u001b[39m\u001b[32m=\u001b[39m\u001b[32m=\u001b[39m---------] 62% (36/58) [2.1s elapsed, eta 1.3]\u001b[2K\u001b[1GDownloading files [\u001b[32m=\u001b[39m\u001b[32m=\u001b[39m\u001b[32m=\u001b[39m\u001b[32m=\u001b[39m\u001b[32m=\u001b[39m\u001b[32m=\u001b[39m\u001b[32m=\u001b[39m\u001b[32m=\u001b[39m\u001b[32m=\u001b[39m\u001b[32m=\u001b[39m\u001b[32m=\u001b[39m\u001b[32m=\u001b[39m\u001b[32m=\u001b[39m\u001b[32m=\u001b[39m\u001b[32m=\u001b[39m---------] 64% (37/58) [2.1s elapsed, eta 1.2]\u001b[2K\u001b[1GDownloading files [\u001b[32m=\u001b[39m\u001b[32m=\u001b[39m\u001b[32m=\u001b[39m\u001b[32m=\u001b[39m\u001b[32m=\u001b[39m\u001b[32m=\u001b[39m\u001b[32m=\u001b[39m\u001b[32m=\u001b[39m\u001b[32m=\u001b[39m\u001b[32m=\u001b[39m\u001b[32m=\u001b[39m\u001b[32m=\u001b[39m\u001b[32m=\u001b[39m\u001b[32m=\u001b[39m\u001b[32m=\u001b[39m\u001b[32m=\u001b[39m--------] 66% (38/58) [2.1s elapsed, eta 1.1]\u001b[2K\u001b[1GDownloading files [\u001b[32m=\u001b[39m\u001b[32m=\u001b[39m\u001b[32m=\u001b[39m\u001b[32m=\u001b[39m\u001b[32m=\u001b[39m\u001b[32m=\u001b[39m\u001b[32m=\u001b[39m\u001b[32m=\u001b[39m\u001b[32m=\u001b[39m\u001b[32m=\u001b[39m\u001b[32m=\u001b[39m\u001b[32m=\u001b[39m\u001b[32m=\u001b[39m\u001b[32m=\u001b[39m\u001b[32m=\u001b[39m\u001b[32m=\u001b[39m--------] 67% (39/58) [2.2s elapsed, eta 1.1]\u001b[2K\u001b[1GDownloading files [\u001b[32m=\u001b[39m\u001b[32m=\u001b[39m\u001b[32m=\u001b[39m\u001b[32m=\u001b[39m\u001b[32m=\u001b[39m\u001b[32m=\u001b[39m\u001b[32m=\u001b[39m\u001b[32m=\u001b[39m\u001b[32m=\u001b[39m\u001b[32m=\u001b[39m\u001b[32m=\u001b[39m\u001b[32m=\u001b[39m\u001b[32m=\u001b[39m\u001b[32m=\u001b[39m\u001b[32m=\u001b[39m\u001b[32m=\u001b[39m\u001b[32m=\u001b[39m-------] 69% (40/58) [2.3s elapsed, eta 1.0]\u001b[2K\u001b[1GDownloading files [\u001b[32m=\u001b[39m\u001b[32m=\u001b[39m\u001b[32m=\u001b[39m\u001b[32m=\u001b[39m\u001b[32m=\u001b[39m\u001b[32m=\u001b[39m\u001b[32m=\u001b[39m\u001b[32m=\u001b[39m\u001b[32m=\u001b[39m\u001b[32m=\u001b[39m\u001b[32m=\u001b[39m\u001b[32m=\u001b[39m\u001b[32m=\u001b[39m\u001b[32m=\u001b[39m\u001b[32m=\u001b[39m\u001b[32m=\u001b[39m\u001b[32m=\u001b[39m-------] 71% (41/58) [2.9s elapsed, eta 1.2]\u001b[2K\u001b[1GDownloading files [\u001b[32m=\u001b[39m\u001b[32m=\u001b[39m\u001b[32m=\u001b[39m\u001b[32m=\u001b[39m\u001b[32m=\u001b[39m\u001b[32m=\u001b[39m\u001b[32m=\u001b[39m\u001b[32m=\u001b[39m\u001b[32m=\u001b[39m\u001b[32m=\u001b[39m\u001b[32m=\u001b[39m\u001b[32m=\u001b[39m\u001b[32m=\u001b[39m\u001b[32m=\u001b[39m\u001b[32m=\u001b[39m\u001b[32m=\u001b[39m\u001b[32m=\u001b[39m-------] 72% (42/58) [3.0s elapsed, eta 1.1]\u001b[2K\u001b[1GDownloading files [\u001b[32m=\u001b[39m\u001b[32m=\u001b[39m\u001b[32m=\u001b[39m\u001b[32m=\u001b[39m\u001b[32m=\u001b[39m\u001b[32m=\u001b[39m\u001b[32m=\u001b[39m\u001b[32m=\u001b[39m\u001b[32m=\u001b[39m\u001b[32m=\u001b[39m\u001b[32m=\u001b[39m\u001b[32m=\u001b[39m\u001b[32m=\u001b[39m\u001b[32m=\u001b[39m\u001b[32m=\u001b[39m\u001b[32m=\u001b[39m\u001b[32m=\u001b[39m\u001b[32m=\u001b[39m------] 74% (43/58) [3.0s elapsed, eta 1.0]\u001b[2K\u001b[1GDownloading files [\u001b[32m=\u001b[39m\u001b[32m=\u001b[39m\u001b[32m=\u001b[39m\u001b[32m=\u001b[39m\u001b[32m=\u001b[39m\u001b[32m=\u001b[39m\u001b[32m=\u001b[39m\u001b[32m=\u001b[39m\u001b[32m=\u001b[39m\u001b[32m=\u001b[39m\u001b[32m=\u001b[39m\u001b[32m=\u001b[39m\u001b[32m=\u001b[39m\u001b[32m=\u001b[39m\u001b[32m=\u001b[39m\u001b[32m=\u001b[39m\u001b[32m=\u001b[39m\u001b[32m=\u001b[39m------] 76% (44/58) [3.0s elapsed, eta 1.0]\u001b[2K\u001b[1GDownloading files [\u001b[32m=\u001b[39m\u001b[32m=\u001b[39m\u001b[32m=\u001b[39m\u001b[32m=\u001b[39m\u001b[32m=\u001b[39m\u001b[32m=\u001b[39m\u001b[32m=\u001b[39m\u001b[32m=\u001b[39m\u001b[32m=\u001b[39m\u001b[32m=\u001b[39m\u001b[32m=\u001b[39m\u001b[32m=\u001b[39m\u001b[32m=\u001b[39m\u001b[32m=\u001b[39m\u001b[32m=\u001b[39m\u001b[32m=\u001b[39m\u001b[32m=\u001b[39m\u001b[32m=\u001b[39m\u001b[32m=\u001b[39m-----] 78% (45/58) [3.0s elapsed, eta 0.9]\u001b[2K\u001b[1GDownloading files [\u001b[32m=\u001b[39m\u001b[32m=\u001b[39m\u001b[32m=\u001b[39m\u001b[32m=\u001b[39m\u001b[32m=\u001b[39m\u001b[32m=\u001b[39m\u001b[32m=\u001b[39m\u001b[32m=\u001b[39m\u001b[32m=\u001b[39m\u001b[32m=\u001b[39m\u001b[32m=\u001b[39m\u001b[32m=\u001b[39m\u001b[32m=\u001b[39m\u001b[32m=\u001b[39m\u001b[32m=\u001b[39m\u001b[32m=\u001b[39m\u001b[32m=\u001b[39m\u001b[32m=\u001b[39m\u001b[32m=\u001b[39m-----] 79% (46/58) [3.0s elapsed, eta 0.8]"
     ]
    },
    {
     "name": "stdout",
     "output_type": "stream",
     "text": [
      "\u001b[2K\u001b[1GDownloading files [\u001b[32m=\u001b[39m\u001b[32m=\u001b[39m\u001b[32m=\u001b[39m\u001b[32m=\u001b[39m\u001b[32m=\u001b[39m\u001b[32m=\u001b[39m\u001b[32m=\u001b[39m\u001b[32m=\u001b[39m\u001b[32m=\u001b[39m\u001b[32m=\u001b[39m\u001b[32m=\u001b[39m\u001b[32m=\u001b[39m\u001b[32m=\u001b[39m\u001b[32m=\u001b[39m\u001b[32m=\u001b[39m\u001b[32m=\u001b[39m\u001b[32m=\u001b[39m\u001b[32m=\u001b[39m\u001b[32m=\u001b[39m-----] 81% (47/58) [3.1s elapsed, eta 0.7]\u001b[2K\u001b[1GDownloading files [\u001b[32m=\u001b[39m\u001b[32m=\u001b[39m\u001b[32m=\u001b[39m\u001b[32m=\u001b[39m\u001b[32m=\u001b[39m\u001b[32m=\u001b[39m\u001b[32m=\u001b[39m\u001b[32m=\u001b[39m\u001b[32m=\u001b[39m\u001b[32m=\u001b[39m\u001b[32m=\u001b[39m\u001b[32m=\u001b[39m\u001b[32m=\u001b[39m\u001b[32m=\u001b[39m\u001b[32m=\u001b[39m\u001b[32m=\u001b[39m\u001b[32m=\u001b[39m\u001b[32m=\u001b[39m\u001b[32m=\u001b[39m\u001b[32m=\u001b[39m----] 83% (48/58) [3.1s elapsed, eta 0.6]\u001b[2K\u001b[1GDownloading files [\u001b[32m=\u001b[39m\u001b[32m=\u001b[39m\u001b[32m=\u001b[39m\u001b[32m=\u001b[39m\u001b[32m=\u001b[39m\u001b[32m=\u001b[39m\u001b[32m=\u001b[39m\u001b[32m=\u001b[39m\u001b[32m=\u001b[39m\u001b[32m=\u001b[39m\u001b[32m=\u001b[39m\u001b[32m=\u001b[39m\u001b[32m=\u001b[39m\u001b[32m=\u001b[39m\u001b[32m=\u001b[39m\u001b[32m=\u001b[39m\u001b[32m=\u001b[39m\u001b[32m=\u001b[39m\u001b[32m=\u001b[39m\u001b[32m=\u001b[39m----] 84% (49/58) [3.2s elapsed, eta 0.6]\u001b[2K\u001b[1GDownloading files [\u001b[32m=\u001b[39m\u001b[32m=\u001b[39m\u001b[32m=\u001b[39m\u001b[32m=\u001b[39m\u001b[32m=\u001b[39m\u001b[32m=\u001b[39m\u001b[32m=\u001b[39m\u001b[32m=\u001b[39m\u001b[32m=\u001b[39m\u001b[32m=\u001b[39m\u001b[32m=\u001b[39m\u001b[32m=\u001b[39m\u001b[32m=\u001b[39m\u001b[32m=\u001b[39m\u001b[32m=\u001b[39m\u001b[32m=\u001b[39m\u001b[32m=\u001b[39m\u001b[32m=\u001b[39m\u001b[32m=\u001b[39m\u001b[32m=\u001b[39m\u001b[32m=\u001b[39m---] 86% (50/58) [3.4s elapsed, eta 0.5]\u001b[2K\u001b[1GDownloading files [\u001b[32m=\u001b[39m\u001b[32m=\u001b[39m\u001b[32m=\u001b[39m\u001b[32m=\u001b[39m\u001b[32m=\u001b[39m\u001b[32m=\u001b[39m\u001b[32m=\u001b[39m\u001b[32m=\u001b[39m\u001b[32m=\u001b[39m\u001b[32m=\u001b[39m\u001b[32m=\u001b[39m\u001b[32m=\u001b[39m\u001b[32m=\u001b[39m\u001b[32m=\u001b[39m\u001b[32m=\u001b[39m\u001b[32m=\u001b[39m\u001b[32m=\u001b[39m\u001b[32m=\u001b[39m\u001b[32m=\u001b[39m\u001b[32m=\u001b[39m\u001b[32m=\u001b[39m---] 88% (51/58) [3.8s elapsed, eta 0.5]\u001b[2K\u001b[1GDownloading files [\u001b[32m=\u001b[39m\u001b[32m=\u001b[39m\u001b[32m=\u001b[39m\u001b[32m=\u001b[39m\u001b[32m=\u001b[39m\u001b[32m=\u001b[39m\u001b[32m=\u001b[39m\u001b[32m=\u001b[39m\u001b[32m=\u001b[39m\u001b[32m=\u001b[39m\u001b[32m=\u001b[39m\u001b[32m=\u001b[39m\u001b[32m=\u001b[39m\u001b[32m=\u001b[39m\u001b[32m=\u001b[39m\u001b[32m=\u001b[39m\u001b[32m=\u001b[39m\u001b[32m=\u001b[39m\u001b[32m=\u001b[39m\u001b[32m=\u001b[39m\u001b[32m=\u001b[39m\u001b[32m=\u001b[39m--] 90% (52/58) [3.8s elapsed, eta 0.4]\u001b[2K\u001b[1GDownloading files [\u001b[32m=\u001b[39m\u001b[32m=\u001b[39m\u001b[32m=\u001b[39m\u001b[32m=\u001b[39m\u001b[32m=\u001b[39m\u001b[32m=\u001b[39m\u001b[32m=\u001b[39m\u001b[32m=\u001b[39m\u001b[32m=\u001b[39m\u001b[32m=\u001b[39m\u001b[32m=\u001b[39m\u001b[32m=\u001b[39m\u001b[32m=\u001b[39m\u001b[32m=\u001b[39m\u001b[32m=\u001b[39m\u001b[32m=\u001b[39m\u001b[32m=\u001b[39m\u001b[32m=\u001b[39m\u001b[32m=\u001b[39m\u001b[32m=\u001b[39m\u001b[32m=\u001b[39m\u001b[32m=\u001b[39m--] 91% (53/58) [3.9s elapsed, eta 0.4]\u001b[2K\u001b[1GDownloading files [\u001b[32m=\u001b[39m\u001b[32m=\u001b[39m\u001b[32m=\u001b[39m\u001b[32m=\u001b[39m\u001b[32m=\u001b[39m\u001b[32m=\u001b[39m\u001b[32m=\u001b[39m\u001b[32m=\u001b[39m\u001b[32m=\u001b[39m\u001b[32m=\u001b[39m\u001b[32m=\u001b[39m\u001b[32m=\u001b[39m\u001b[32m=\u001b[39m\u001b[32m=\u001b[39m\u001b[32m=\u001b[39m\u001b[32m=\u001b[39m\u001b[32m=\u001b[39m\u001b[32m=\u001b[39m\u001b[32m=\u001b[39m\u001b[32m=\u001b[39m\u001b[32m=\u001b[39m\u001b[32m=\u001b[39m--] 93% (54/58) [4.0s elapsed, eta 0.3]\u001b[2K\u001b[1GDownloading files [\u001b[32m=\u001b[39m\u001b[32m=\u001b[39m\u001b[32m=\u001b[39m\u001b[32m=\u001b[39m\u001b[32m=\u001b[39m\u001b[32m=\u001b[39m\u001b[32m=\u001b[39m\u001b[32m=\u001b[39m\u001b[32m=\u001b[39m\u001b[32m=\u001b[39m\u001b[32m=\u001b[39m\u001b[32m=\u001b[39m\u001b[32m=\u001b[39m\u001b[32m=\u001b[39m\u001b[32m=\u001b[39m\u001b[32m=\u001b[39m\u001b[32m=\u001b[39m\u001b[32m=\u001b[39m\u001b[32m=\u001b[39m\u001b[32m=\u001b[39m\u001b[32m=\u001b[39m\u001b[32m=\u001b[39m\u001b[32m=\u001b[39m-] 95% (55/58) [4.0s elapsed, eta 0.2]\u001b[2K\u001b[1GDownloading files [\u001b[32m=\u001b[39m\u001b[32m=\u001b[39m\u001b[32m=\u001b[39m\u001b[32m=\u001b[39m\u001b[32m=\u001b[39m\u001b[32m=\u001b[39m\u001b[32m=\u001b[39m\u001b[32m=\u001b[39m\u001b[32m=\u001b[39m\u001b[32m=\u001b[39m\u001b[32m=\u001b[39m\u001b[32m=\u001b[39m\u001b[32m=\u001b[39m\u001b[32m=\u001b[39m\u001b[32m=\u001b[39m\u001b[32m=\u001b[39m\u001b[32m=\u001b[39m\u001b[32m=\u001b[39m\u001b[32m=\u001b[39m\u001b[32m=\u001b[39m\u001b[32m=\u001b[39m\u001b[32m=\u001b[39m\u001b[32m=\u001b[39m-] 97% (56/58) [4.0s elapsed, eta 0.1]\u001b[2K\u001b[1GDownloading files [\u001b[32m=\u001b[39m\u001b[32m=\u001b[39m\u001b[32m=\u001b[39m\u001b[32m=\u001b[39m\u001b[32m=\u001b[39m\u001b[32m=\u001b[39m\u001b[32m=\u001b[39m\u001b[32m=\u001b[39m\u001b[32m=\u001b[39m\u001b[32m=\u001b[39m\u001b[32m=\u001b[39m\u001b[32m=\u001b[39m\u001b[32m=\u001b[39m\u001b[32m=\u001b[39m\u001b[32m=\u001b[39m\u001b[32m=\u001b[39m\u001b[32m=\u001b[39m\u001b[32m=\u001b[39m\u001b[32m=\u001b[39m\u001b[32m=\u001b[39m\u001b[32m=\u001b[39m\u001b[32m=\u001b[39m\u001b[32m=\u001b[39m\u001b[32m=\u001b[39m] 98% (57/58) [4.1s elapsed, eta 0.1]\u001b[2K\u001b[1GDownloading files [\u001b[32m=\u001b[39m\u001b[32m=\u001b[39m\u001b[32m=\u001b[39m\u001b[32m=\u001b[39m\u001b[32m=\u001b[39m\u001b[32m=\u001b[39m\u001b[32m=\u001b[39m\u001b[32m=\u001b[39m\u001b[32m=\u001b[39m\u001b[32m=\u001b[39m\u001b[32m=\u001b[39m\u001b[32m=\u001b[39m\u001b[32m=\u001b[39m\u001b[32m=\u001b[39m\u001b[32m=\u001b[39m\u001b[32m=\u001b[39m\u001b[32m=\u001b[39m\u001b[32m=\u001b[39m\u001b[32m=\u001b[39m\u001b[32m=\u001b[39m\u001b[32m=\u001b[39m\u001b[32m=\u001b[39m\u001b[32m=\u001b[39m] 100% (58/58) [4.1s elapsed, eta 0.0]\n",
      "\u001b[32minfo\u001b[39m: All downloads succeeded!\n"
     ]
    }
   ],
   "source": [
    "print (\"running: getpapers -q \\\"\" + EPMC + \"\\\" -o \" + PROJECT + \" -x -k \" + str(HITS))\n",
    "! getpapers -q \"$EPMC\" -o $PROJECT -x -k $HITS\n",
    "       "
   ]
  },
  {
   "cell_type": "code",
   "execution_count": 19,
   "metadata": {},
   "outputs": [
    {
     "name": "stdout",
     "output_type": "stream",
     "text": [
      "===== created covid_vaccine =======\n",
      "\u001b[34m10.1101\u001b[m\u001b[m                      \u001b[34mPMC7471481\u001b[m\u001b[m\n",
      "\u001b[34mPMC7173684\u001b[m\u001b[m                   \u001b[34mPMC7471798\u001b[m\u001b[m\n",
      "\u001b[34mPMC7241448\u001b[m\u001b[m                   \u001b[34mPMC7472682\u001b[m\u001b[m\n",
      "\u001b[34mPMC7241531\u001b[m\u001b[m                   \u001b[34mPMC7473047\u001b[m\u001b[m\n",
      "\u001b[34mPMC7250318\u001b[m\u001b[m                   \u001b[34mPMC7473191\u001b[m\u001b[m\n",
      "\u001b[34mPMC7269071\u001b[m\u001b[m                   \u001b[34mPMC7474482\u001b[m\u001b[m\n",
      "\u001b[34mPMC7317261\u001b[m\u001b[m                   \u001b[34mPMC7474803\u001b[m\u001b[m\n",
      "\u001b[34mPMC7337641\u001b[m\u001b[m                   \u001b[34mPMC7478434\u001b[m\u001b[m\n",
      "\u001b[34mPMC7378300\u001b[m\u001b[m                   \u001b[34mPMC7479474\u001b[m\u001b[m\n",
      "\u001b[34mPMC7388780\u001b[m\u001b[m                   \u001b[34mPMC7480448\u001b[m\u001b[m\n",
      "\u001b[34mPMC7390283\u001b[m\u001b[m                   \u001b[34mPMC7480895\u001b[m\u001b[m\n",
      "\u001b[34mPMC7405756\u001b[m\u001b[m                   \u001b[34mPMC7481764\u001b[m\u001b[m\n",
      "\u001b[34mPMC7409616\u001b[m\u001b[m                   \u001b[34mPMC7482990\u001b[m\u001b[m\n",
      "\u001b[34mPMC7409819\u001b[m\u001b[m                   \u001b[34mPMC7483049\u001b[m\u001b[m\n",
      "\u001b[34mPMC7410812\u001b[m\u001b[m                   \u001b[34mPMC7484565\u001b[m\u001b[m\n",
      "\u001b[34mPMC7413156\u001b[m\u001b[m                   \u001b[34mPMC7484566\u001b[m\u001b[m\n",
      "\u001b[34mPMC7417747\u001b[m\u001b[m                   \u001b[34mPMC7484576\u001b[m\u001b[m\n",
      "\u001b[34mPMC7417850\u001b[m\u001b[m                   \u001b[34mPMC7484596\u001b[m\u001b[m\n",
      "\u001b[34mPMC7417896\u001b[m\u001b[m                   \u001b[34mPMC7484811\u001b[m\u001b[m\n",
      "\u001b[34mPMC7419263\u001b[m\u001b[m                   \u001b[34mPMC7485203\u001b[m\u001b[m\n",
      "\u001b[34mPMC7423333\u001b[m\u001b[m                   \u001b[34mPMC7486065\u001b[m\u001b[m\n",
      "\u001b[34mPMC7423510\u001b[m\u001b[m                   \u001b[34mPMC7486984\u001b[m\u001b[m\n",
      "\u001b[34mPMC7424330\u001b[m\u001b[m                   \u001b[34mPMC7489243\u001b[m\u001b[m\n",
      "\u001b[34mPMC7428732\u001b[m\u001b[m                   \u001b[34mPMC7489926\u001b[m\u001b[m\n",
      "\u001b[34mPMC7431109\u001b[m\u001b[m                   \u001b[34mPMC7492005\u001b[m\u001b[m\n",
      "\u001b[34mPMC7431281\u001b[m\u001b[m                   \u001b[34mPMC7494251\u001b[m\u001b[m\n",
      "\u001b[34mPMC7431317\u001b[m\u001b[m                   \u001b[34mPMC7498238\u001b[m\u001b[m\n",
      "\u001b[34mPMC7435296\u001b[m\u001b[m                   \u001b[34mPMC7499491\u001b[m\u001b[m\n",
      "\u001b[34mPMC7436383\u001b[m\u001b[m                   \u001b[34mPMC7499504\u001b[m\u001b[m\n",
      "\u001b[34mPMC7437565\u001b[m\u001b[m                   \u001b[34mPMC7499532\u001b[m\u001b[m\n",
      "\u001b[34mPMC7440153\u001b[m\u001b[m                   \u001b[34mPMC7499599\u001b[m\u001b[m\n",
      "\u001b[34mPMC7443330\u001b[m\u001b[m                   \u001b[34mPMC7499655\u001b[m\u001b[m\n",
      "\u001b[34mPMC7443809\u001b[m\u001b[m                   \u001b[34mPMC7499784\u001b[m\u001b[m\n",
      "\u001b[34mPMC7444935\u001b[m\u001b[m                   \u001b[34mPMC7501874\u001b[m\u001b[m\n",
      "\u001b[34mPMC7449865\u001b[m\u001b[m                   \u001b[34mPMC7501876\u001b[m\u001b[m\n",
      "\u001b[34mPMC7451056\u001b[m\u001b[m                   \u001b[34mPMC7502362\u001b[m\u001b[m\n",
      "\u001b[34mPMC7452821\u001b[m\u001b[m                   \u001b[34mPMC7503114\u001b[m\u001b[m\n",
      "\u001b[34mPMC7455144\u001b[m\u001b[m                   \u001b[34mPMC7505016\u001b[m\u001b[m\n",
      "\u001b[34mPMC7461084\u001b[m\u001b[m                   \u001b[34mPMC7505019\u001b[m\u001b[m\n",
      "\u001b[34mPMC7461374\u001b[m\u001b[m                   \u001b[34mPMC7505022\u001b[m\u001b[m\n",
      "\u001b[34mPMC7461519\u001b[m\u001b[m                   \u001b[34mPMC7505629\u001b[m\u001b[m\n",
      "\u001b[34mPMC7462473\u001b[m\u001b[m                   \u001b[34mPMC7505651\u001b[m\u001b[m\n",
      "\u001b[34mPMC7462568\u001b[m\u001b[m                   \u001b[34mPMC7508516\u001b[m\u001b[m\n",
      "\u001b[34mPMC7462898\u001b[m\u001b[m                   \u001b[34mPMC7508526\u001b[m\u001b[m\n",
      "\u001b[34mPMC7464065\u001b[m\u001b[m                   \u001b[34mPMC7511201\u001b[m\u001b[m\n",
      "\u001b[34mPMC7466941\u001b[m\u001b[m                   \u001b[34mPMC7513818\u001b[m\u001b[m\n",
      "\u001b[34mPMC7467145\u001b[m\u001b[m                   eupmc_fulltext_html_urls.txt\n",
      "\u001b[34mPMC7468088\u001b[m\u001b[m                   eupmc_results.json\n",
      "\u001b[34mPMC7470735\u001b[m\u001b[m\n"
     ]
    }
   ],
   "source": [
    "print (\"===== created \" + PROJECT + \" =======\")\n",
    "! ls $PROJECT"
   ]
  },
  {
   "cell_type": "markdown",
   "metadata": {},
   "source": [
    "## `ami search` on results of `getpapers`\n",
    "\n",
    "This requires one or more dictionaries (space-separated) in DICTIONARIES\n",
    "It can transform/search 1-3 papers/sec and is quicker the second time around. "
   ]
  },
  {
   "cell_type": "code",
   "execution_count": 20,
   "metadata": {},
   "outputs": [
    {
     "name": "stdout",
     "output_type": "stream",
     "text": [
      "===== running  ami -p covid_vaccine search --dictionary drugs disease country =======\n",
      "\n",
      "Generic values (AMISearchTool)\n",
      "================================\n",
      "\n",
      "Specific values (AMISearchTool)\n",
      "================================\n",
      "created COMMAND: word(frequencies)xpath:@count>20~w.stopwords:pmcstop.txt_stopwords.txt search(drugs) search(disease) search(country)\n",
      "cProject: covid_vaccine\n",
      "created COMMAND: word(frequencies)xpath:@count>20~w.stopwords:pmcstop.txt_stopwords.txt search(drugs) search(disease) search(country)\n",
      "legacy cmd> word(frequencies)xpath:@count>20~w.stopwords:pmcstop.txt_stopwords.txt\n",
      "legacy cmd> search(drugs)\n",
      "legacy cmd> search(disease)\n",
      "legacy cmd> search(country)\n",
      "!10.1101 .PMC7173684 nlm:toHtml.xsl\n",
      "unknown tag table-wrap\n",
      "unknown tag table-wrap-foot\n",
      "PMC7241448 nlm:toHtml.xsl\n",
      "unknown tag table-wrap\n",
      "unknown tag table-wrap-foot\n",
      "PMC7241531 nlm:toHtml.xsl\n",
      "unknown tag table-wrap\n",
      "unknown tag table-wrap-foot\n",
      "PMC7250318 nlm:toHtml.xsl\n",
      "PMC7269071 nlm:toHtml.xsl\n",
      "PMC7317261 nlm:toHtml.xsl\n",
      "unknown tag tex-math\n",
      "unknown tag math\n",
      "unknown tag msub\n",
      "unknown tag mi\n",
      "unknown tag mn\n",
      "unknown tag mrow\n",
      "unknown tag mtext\n",
      "unknown tag mo\n",
      "unknown tag mfrac\n",
      "PMC7337641 nlm:toHtml.xsl\n",
      "PMC7378300 nlm:toHtml.xsl\n",
      "PMC7388780 nlm:toHtml.xsl\n",
      "PMC7390283 nlm:toHtml.xsl\n",
      ".PMC7405756 nlm:toHtml.xsl\n",
      "unknown tag table-wrap\n",
      "PMC7409616 nlm:toHtml.xsl\n",
      "PMC7409819 nlm:toHtml.xsl\n",
      "unknown tag math\n",
      "unknown tag mrow\n",
      "unknown tag mi\n",
      "unknown tag mo\n",
      "unknown tag msub\n",
      "unknown tag mn\n",
      "unknown tag mtable\n",
      "unknown tag mtr\n",
      "unknown tag mtd\n",
      "unknown tag mover\n",
      "unknown tag mspace\n",
      "unknown tag mfrac\n",
      "unknown tag table-wrap\n",
      "unknown tag msubsup\n",
      "unknown tag mtext\n",
      "unknown tag msup\n",
      "unknown tag mfenced\n",
      "PMC7410812 nlm:toHtml.xsl\n",
      "!PMC7413156 PMC7417747 nlm:toHtml.xsl\n",
      "PMC7417850 nlm:toHtml.xsl\n",
      "unknown tag table-wrap\n",
      "unknown tag table-wrap-foot\n",
      "!PMC7417896 PMC7419263 nlm:toHtml.xsl\n",
      "unknown tag table-wrap\n",
      "unknown tag table-wrap-foot\n",
      "PMC7423333 nlm:toHtml.xsl\n",
      "unknown tag table-wrap\n",
      "unknown tag table-wrap-foot\n",
      ".PMC7423510 nlm:toHtml.xsl\n",
      "unknown tag table-wrap\n",
      "unknown tag table-wrap-foot\n",
      "!PMC7424330 !PMC7428732 PMC7431109 nlm:toHtml.xsl\n",
      "PMC7431281 nlm:toHtml.xsl\n",
      "unknown tag table-wrap\n",
      "PMC7431317 nlm:toHtml.xsl\n",
      "PMC7435296 nlm:toHtml.xsl\n",
      "PMC7436383 nlm:toHtml.xsl\n",
      "unknown tag math\n",
      "unknown tag mo\n",
      "PMC7437565 nlm:toHtml.xsl\n",
      "PMC7440153 nlm:toHtml.xsl\n",
      "unknown tag table-wrap\n",
      "unknown tag table-wrap-foot\n",
      ".PMC7443330 nlm:toHtml.xsl\n",
      "unknown tag table-wrap\n",
      "PMC7443809 nlm:toHtml.xsl\n",
      "PMC7444935 nlm:toHtml.xsl\n",
      "unknown tag table-wrap\n",
      "PMC7449865 nlm:toHtml.xsl\n",
      "!PMC7451056 PMC7452821 nlm:toHtml.xsl\n",
      "PMC7455144 nlm:toHtml.xsl\n",
      "PMC7461084 nlm:toHtml.xsl\n",
      "unknown tag sc\n",
      "PMC7461374 nlm:toHtml.xsl\n",
      "PMC7461519 nlm:toHtml.xsl\n",
      ".PMC7462473 nlm:toHtml.xsl\n",
      "PMC7462568 nlm:toHtml.xsl\n",
      "unknown tag table-wrap\n",
      "unknown tag table-wrap-foot\n",
      "PMC7462898 nlm:toHtml.xsl\n",
      "unknown tag table-wrap\n",
      "PMC7464065 nlm:toHtml.xsl\n",
      "unknown tag table-wrap\n",
      "PMC7466941 nlm:toHtml.xsl\n",
      "PMC7467145 nlm:toHtml.xsl\n",
      "unknown tag table-wrap\n",
      "unknown tag table-wrap-foot\n",
      "PMC7468088 nlm:toHtml.xsl\n",
      "unknown tag table-wrap\n",
      "unknown tag table-wrap-foot\n",
      "PMC7470735 nlm:toHtml.xsl\n",
      "PMC7471481 nlm:toHtml.xsl\n",
      "!PMC7471798 .PMC7472682 nlm:toHtml.xsl\n",
      "unknown tag table-wrap\n",
      "unknown tag table-wrap-foot\n",
      "PMC7473047 nlm:toHtml.xsl\n",
      "UNKNOWN nlm tag: article-version\n",
      "unknown tag table-wrap\n",
      "PMC7473191 nlm:toHtml.xsl\n",
      "UNKNOWN nlm tag: article-version\n",
      "PMC7474482 nlm:toHtml.xsl\n",
      "!PMC7474803 !PMC7478434 PMC7479474 nlm:toHtml.xsl\n",
      "!PMC7480448 PMC7480895 nlm:toHtml.xsl\n",
      "!PMC7481764 .PMC7482990 nlm:toHtml.xsl\n",
      "unknown tag table-wrap\n",
      "!PMC7483049 !PMC7484565 !PMC7484566 !PMC7484576 !PMC7484596 !PMC7484811 PMC7485203 nlm:toHtml.xsl\n",
      "!PMC7486065 !PMC7486984 .PMC7489243 nlm:toHtml.xsl\n",
      "!PMC7489926 !PMC7492005 !PMC7494251 !PMC7498238 PMC7499491 nlm:toHtml.xsl\n",
      "PMC7499504 nlm:toHtml.xsl\n",
      "PMC7499532 nlm:toHtml.xsl\n",
      "!PMC7499599 PMC7499655 nlm:toHtml.xsl\n",
      ".PMC7499784 nlm:toHtml.xsl\n",
      "unknown tag table-wrap\n",
      "unknown tag table-wrap-foot\n",
      "!PMC7501874 !PMC7501876 !PMC7502362 !PMC7503114 !PMC7505016 !PMC7505019 !PMC7505022 !PMC7505629 !PMC7505651 .!PMC7508516 !PMC7508526 !PMC7511201 !PMC7513818 Cannot read stopword stream: /org/contentmine/ami/wordutil, ami3, version 2020/08/09_09/54-NEXT-SNAPSHOT/pmcstop.txt\n",
      "Cannot read stopword stream: /org/contentmine/ami/wordutil, ami3, version 2020/08/09_09/54-NEXT-SNAPSHOT/stopwords.txt\n",
      "10.1101 !w.PMC7173684 PMC7241448 PMC7241531 PMC7250318 PMC7269071 PMC7317261 PMC7337641 PMC7378300 PMC7388780 PMC7390283 .PMC7405756 PMC7409616 PMC7409819 PMC7410812 PMC7413156 !wPMC7417747 PMC7417850 PMC7417896 !wPMC7419263 PMC7423333 .PMC7423510 PMC7424330 !wPMC7428732 !wPMC7431109 PMC7431281 PMC7431317 PMC7435296 PMC7436383 PMC7437565 PMC7440153 .PMC7443330 PMC7443809 PMC7444935 PMC7449865 PMC7451056 !wPMC7452821 PMC7455144 PMC7461084 PMC7461374 PMC7461519 .PMC7462473 PMC7462568 PMC7462898 PMC7464065 PMC7466941 PMC7467145 PMC7468088 PMC7470735 PMC7471481 PMC7471798 !w.PMC7472682 PMC7473047 PMC7473191 PMC7474482 PMC7474803 !wPMC7478434 !wPMC7479474 PMC7480448 !wPMC7480895 PMC7481764 !w.PMC7482990 PMC7483049 !wPMC7484565 !wPMC7484566 !wPMC7484576 !wPMC7484596 !wPMC7484811 !wPMC7485203 PMC7486065 !wPMC7486984 !w.PMC7489243 PMC7489926 !wPMC7492005 !wPMC7494251 !wPMC7498238 !wPMC7499491 PMC7499504 PMC7499532 PMC7499599 !wPMC7499655 .PMC7499784 PMC7501874 !wPMC7501876 !wPMC7502362 !wPMC7503114 !wPMC7505016 !wPMC7505019 !wPMC7505022 !wPMC7505629 !wPMC7505651 !w.PMC7508516 !wPMC7508526 !wPMC7511201 !wPMC7513818 !w..............................................................................................................\n",
      "create data tables\n",
      "rrrrrrrrrrrrrrrrrrrrrrrr"
     ]
    }
   ],
   "source": [
    "print (\"===== running \" + \" ami -p \" + PROJECT + \" search --dictionary \"\\\n",
    "       + DICTIONARIES + \" =======\")\n",
    "! ami -p $PROJECT search --dictionary $DICTIONARIES"
   ]
  },
  {
   "cell_type": "code",
   "execution_count": 21,
   "metadata": {
    "scrolled": false
   },
   "outputs": [
    {
     "name": "stdout",
     "output_type": "stream",
     "text": [
      "\u001b[34m10.1101\u001b[m\u001b[m/                        \u001b[34mPMC7479474\u001b[m\u001b[m/\r\n",
      "\u001b[34mPMC7173684\u001b[m\u001b[m/                     \u001b[34mPMC7480448\u001b[m\u001b[m/\r\n",
      "\u001b[34mPMC7241448\u001b[m\u001b[m/                     \u001b[34mPMC7480895\u001b[m\u001b[m/\r\n",
      "\u001b[34mPMC7241531\u001b[m\u001b[m/                     \u001b[34mPMC7481764\u001b[m\u001b[m/\r\n",
      "\u001b[34mPMC7250318\u001b[m\u001b[m/                     \u001b[34mPMC7482990\u001b[m\u001b[m/\r\n",
      "\u001b[34mPMC7269071\u001b[m\u001b[m/                     \u001b[34mPMC7483049\u001b[m\u001b[m/\r\n",
      "\u001b[34mPMC7317261\u001b[m\u001b[m/                     \u001b[34mPMC7484565\u001b[m\u001b[m/\r\n",
      "\u001b[34mPMC7337641\u001b[m\u001b[m/                     \u001b[34mPMC7484566\u001b[m\u001b[m/\r\n",
      "\u001b[34mPMC7378300\u001b[m\u001b[m/                     \u001b[34mPMC7484576\u001b[m\u001b[m/\r\n",
      "\u001b[34mPMC7388780\u001b[m\u001b[m/                     \u001b[34mPMC7484596\u001b[m\u001b[m/\r\n",
      "\u001b[34mPMC7390283\u001b[m\u001b[m/                     \u001b[34mPMC7484811\u001b[m\u001b[m/\r\n",
      "\u001b[34mPMC7405756\u001b[m\u001b[m/                     \u001b[34mPMC7485203\u001b[m\u001b[m/\r\n",
      "\u001b[34mPMC7409616\u001b[m\u001b[m/                     \u001b[34mPMC7486065\u001b[m\u001b[m/\r\n",
      "\u001b[34mPMC7409819\u001b[m\u001b[m/                     \u001b[34mPMC7486984\u001b[m\u001b[m/\r\n",
      "\u001b[34mPMC7410812\u001b[m\u001b[m/                     \u001b[34mPMC7489243\u001b[m\u001b[m/\r\n",
      "\u001b[34mPMC7413156\u001b[m\u001b[m/                     \u001b[34mPMC7489926\u001b[m\u001b[m/\r\n",
      "\u001b[34mPMC7417747\u001b[m\u001b[m/                     \u001b[34mPMC7492005\u001b[m\u001b[m/\r\n",
      "\u001b[34mPMC7417850\u001b[m\u001b[m/                     \u001b[34mPMC7494251\u001b[m\u001b[m/\r\n",
      "\u001b[34mPMC7417896\u001b[m\u001b[m/                     \u001b[34mPMC7498238\u001b[m\u001b[m/\r\n",
      "\u001b[34mPMC7419263\u001b[m\u001b[m/                     \u001b[34mPMC7499491\u001b[m\u001b[m/\r\n",
      "\u001b[34mPMC7423333\u001b[m\u001b[m/                     \u001b[34mPMC7499504\u001b[m\u001b[m/\r\n",
      "\u001b[34mPMC7423510\u001b[m\u001b[m/                     \u001b[34mPMC7499532\u001b[m\u001b[m/\r\n",
      "\u001b[34mPMC7424330\u001b[m\u001b[m/                     \u001b[34mPMC7499599\u001b[m\u001b[m/\r\n",
      "\u001b[34mPMC7428732\u001b[m\u001b[m/                     \u001b[34mPMC7499655\u001b[m\u001b[m/\r\n",
      "\u001b[34mPMC7431109\u001b[m\u001b[m/                     \u001b[34mPMC7499784\u001b[m\u001b[m/\r\n",
      "\u001b[34mPMC7431281\u001b[m\u001b[m/                     \u001b[34mPMC7501874\u001b[m\u001b[m/\r\n",
      "\u001b[34mPMC7431317\u001b[m\u001b[m/                     \u001b[34mPMC7501876\u001b[m\u001b[m/\r\n",
      "\u001b[34mPMC7435296\u001b[m\u001b[m/                     \u001b[34mPMC7502362\u001b[m\u001b[m/\r\n",
      "\u001b[34mPMC7436383\u001b[m\u001b[m/                     \u001b[34mPMC7503114\u001b[m\u001b[m/\r\n",
      "\u001b[34mPMC7437565\u001b[m\u001b[m/                     \u001b[34mPMC7505016\u001b[m\u001b[m/\r\n",
      "\u001b[34mPMC7440153\u001b[m\u001b[m/                     \u001b[34mPMC7505019\u001b[m\u001b[m/\r\n",
      "\u001b[34mPMC7443330\u001b[m\u001b[m/                     \u001b[34mPMC7505022\u001b[m\u001b[m/\r\n",
      "\u001b[34mPMC7443809\u001b[m\u001b[m/                     \u001b[34mPMC7505629\u001b[m\u001b[m/\r\n",
      "\u001b[34mPMC7444935\u001b[m\u001b[m/                     \u001b[34mPMC7505651\u001b[m\u001b[m/\r\n",
      "\u001b[34mPMC7449865\u001b[m\u001b[m/                     \u001b[34mPMC7508516\u001b[m\u001b[m/\r\n",
      "\u001b[34mPMC7451056\u001b[m\u001b[m/                     \u001b[34mPMC7508526\u001b[m\u001b[m/\r\n",
      "\u001b[34mPMC7452821\u001b[m\u001b[m/                     \u001b[34mPMC7511201\u001b[m\u001b[m/\r\n",
      "\u001b[34mPMC7455144\u001b[m\u001b[m/                     \u001b[34mPMC7513818\u001b[m\u001b[m/\r\n",
      "\u001b[34mPMC7461084\u001b[m\u001b[m/                     \u001b[34m__cooccurrence\u001b[m\u001b[m/\r\n",
      "\u001b[34mPMC7461374\u001b[m\u001b[m/                     commonest.dataTables.html\r\n",
      "\u001b[34mPMC7461519\u001b[m\u001b[m/                     count.dataTables.html\r\n",
      "\u001b[34mPMC7462473\u001b[m\u001b[m/                     entries.dataTables.html\r\n",
      "\u001b[34mPMC7462568\u001b[m\u001b[m/                     eupmc_fulltext_html_urls.txt\r\n",
      "\u001b[34mPMC7462898\u001b[m\u001b[m/                     eupmc_results.json\r\n",
      "\u001b[34mPMC7464065\u001b[m\u001b[m/                     full.dataTables.html\r\n",
      "\u001b[34mPMC7466941\u001b[m\u001b[m/                     search.country.count.xml\r\n",
      "\u001b[34mPMC7467145\u001b[m\u001b[m/                     search.country.documents.xml\r\n",
      "\u001b[34mPMC7468088\u001b[m\u001b[m/                     search.country.snippets.xml\r\n",
      "\u001b[34mPMC7470735\u001b[m\u001b[m/                     search.disease.count.xml\r\n",
      "\u001b[34mPMC7471481\u001b[m\u001b[m/                     search.disease.documents.xml\r\n",
      "\u001b[34mPMC7471798\u001b[m\u001b[m/                     search.disease.snippets.xml\r\n",
      "\u001b[34mPMC7472682\u001b[m\u001b[m/                     search.drugs.count.xml\r\n",
      "\u001b[34mPMC7473047\u001b[m\u001b[m/                     search.drugs.documents.xml\r\n",
      "\u001b[34mPMC7473191\u001b[m\u001b[m/                     search.drugs.snippets.xml\r\n",
      "\u001b[34mPMC7474482\u001b[m\u001b[m/                     word.frequencies.count.xml\r\n",
      "\u001b[34mPMC7474803\u001b[m\u001b[m/                     word.frequencies.documents.xml\r\n",
      "\u001b[34mPMC7478434\u001b[m\u001b[m/                     word.frequencies.snippets.xml\r\n"
     ]
    }
   ],
   "source": [
    "ls $PROJECT"
   ]
  },
  {
   "cell_type": "markdown",
   "metadata": {},
   "source": [
    "[link to dashboard (full.dataTables)](drugs_disease_country/full.dataTables.html)"
   ]
  },
  {
   "cell_type": "code",
   "execution_count": 22,
   "metadata": {},
   "outputs": [],
   "source": [
    "## cooccurrence plots\n",
    "\n",
    "### First, list the plots"
   ]
  },
  {
   "cell_type": "code",
   "execution_count": 23,
   "metadata": {},
   "outputs": [
    {
     "name": "stdout",
     "output_type": "stream",
     "text": [
      "allPlots.svg    \u001b[34mcountry-country\u001b[m\u001b[m \u001b[34mdisease-country\u001b[m\u001b[m \u001b[34mdrugs\u001b[m\u001b[m           \u001b[34mdrugs-disease\u001b[m\u001b[m\n",
      "\u001b[34mcountry\u001b[m\u001b[m         \u001b[34mdisease\u001b[m\u001b[m         \u001b[34mdisease-disease\u001b[m\u001b[m \u001b[34mdrugs-country\u001b[m\u001b[m   \u001b[34mdrugs-drugs\u001b[m\u001b[m\n",
      "covid_vaccine/__cooccurrence/allPlots.svg\n"
     ]
    }
   ],
   "source": [
    "! ls $PROJECT/__cooccurrence/\n",
    "! ls $PROJECT/__cooccurrence/allPlots.svg \n",
    "# this is a kludge until we work out how to display the file\n",
    "! cp $PROJECT/__cooccurrence/allPlots.svg tempAllPlots.svg"
   ]
  },
  {
   "cell_type": "markdown",
   "metadata": {},
   "source": [
    "### display the all-vs-all plot\n",
    "*WARNING uses a temp file - we need to find a generic way with `display()`\n"
   ]
  },
  {
   "cell_type": "markdown",
   "metadata": {},
   "source": [
    "## all-by-all plots\n",
    "<img src=\"tempAllPlots.svg\">\n",
    "\n",
    "licence\n",
    "![Alt text](https://mirrors.creativecommons.org/presskit/logos/cc.logo.svg)\n",
    "\n"
   ]
  },
  {
   "cell_type": "code",
   "execution_count": 24,
   "metadata": {},
   "outputs": [
    {
     "name": "stdout",
     "output_type": "stream",
     "text": [
      "Thu  1 Oct 2020 14:40:28 BST\r\n"
     ]
    }
   ],
   "source": [
    "! date"
   ]
  }
 ],
 "metadata": {
  "kernelspec": {
   "display_name": "Python 3",
   "language": "python",
   "name": "python3"
  },
  "language_info": {
   "codemirror_mode": {
    "name": "ipython",
    "version": 3
   },
   "file_extension": ".py",
   "mimetype": "text/x-python",
   "name": "python",
   "nbconvert_exporter": "python",
   "pygments_lexer": "ipython3",
   "version": "3.8.3"
  }
 },
 "nbformat": 4,
 "nbformat_minor": 4
}
